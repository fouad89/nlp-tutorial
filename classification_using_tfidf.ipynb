{
  "nbformat": 4,
  "nbformat_minor": 0,
  "metadata": {
    "colab": {
      "name": "classification_using_tfidf.ipynb",
      "provenance": [],
      "collapsed_sections": [],
      "authorship_tag": "ABX9TyO8wIXC2gzCyiAID04I5wo4",
      "include_colab_link": true
    },
    "kernelspec": {
      "name": "python3",
      "display_name": "Python 3"
    },
    "language_info": {
      "name": "python"
    }
  },
  "cells": [
    {
      "cell_type": "markdown",
      "metadata": {
        "id": "view-in-github",
        "colab_type": "text"
      },
      "source": [
        "<a href=\"https://colab.research.google.com/github/fouad89/nlp-tutorial/blob/main/classification_using_tfidf.ipynb\" target=\"_parent\"><img src=\"https://colab.research.google.com/assets/colab-badge.svg\" alt=\"Open In Colab\"/></a>"
      ]
    },
    {
      "cell_type": "code",
      "execution_count": null,
      "metadata": {
        "id": "NaQW32aqI18P"
      },
      "outputs": [],
      "source": [
        ""
      ]
    },
    {
      "cell_type": "code",
      "source": [
        "from google.colab import drive\n",
        "drive.mount('/content/drive')"
      ],
      "metadata": {
        "colab": {
          "base_uri": "https://localhost:8080/"
        },
        "id": "z0jrCUA6Jysw",
        "outputId": "dbe33257-65bc-487c-b49a-22a8dcf0cf35"
      },
      "execution_count": 1,
      "outputs": [
        {
          "output_type": "stream",
          "name": "stdout",
          "text": [
            "Mounted at /content/drive\n"
          ]
        }
      ]
    },
    {
      "cell_type": "code",
      "source": [
        "import numpy as np\n",
        "import pandas as pd\n",
        "import matplotlib.pyplot as plt\n",
        "\n",
        "from sklearn.model_selection import train_test_split\n",
        "from sklearn.feature_extraction.text import CountVectorizer, TfidfVectorizer\n",
        "from sklearn.preprocessing import LabelBinarizer\n",
        "from sklearn.linear_model import LogisticRegression\n",
        "from sklearn.metrics import f1_score, accuracy_score, confusion_matrix, ConfusionMatrixDisplay, classification_report\n",
        "from sklearn.preprocessing import LabelBinarizer\n",
        "from sklearn.pipeline import Pipeline\n",
        "# text preprocessing\n",
        "import re\n",
        "import nltk\n",
        "import gensim.downloader as api\n"
      ],
      "metadata": {
        "id": "SsTDv-x8JzUV"
      },
      "execution_count": 52,
      "outputs": []
    },
    {
      "cell_type": "code",
      "source": [
        "nltk.download('stopwords')\n",
        "nltk.download('wordnet')\n",
        "nltk.download('omw-1.4')"
      ],
      "metadata": {
        "colab": {
          "base_uri": "https://localhost:8080/"
        },
        "id": "ZfAd5YIpUci2",
        "outputId": "8adb25bc-011a-4948-fe5a-be90767cc597"
      },
      "execution_count": 34,
      "outputs": [
        {
          "output_type": "stream",
          "name": "stderr",
          "text": [
            "[nltk_data] Downloading package stopwords to /root/nltk_data...\n",
            "[nltk_data]   Package stopwords is already up-to-date!\n",
            "[nltk_data] Downloading package wordnet to /root/nltk_data...\n",
            "[nltk_data]   Package wordnet is already up-to-date!\n",
            "[nltk_data] Downloading package omw-1.4 to /root/nltk_data...\n",
            "[nltk_data]   Unzipping corpora/omw-1.4.zip.\n"
          ]
        },
        {
          "output_type": "execute_result",
          "data": {
            "text/plain": [
              "True"
            ]
          },
          "metadata": {},
          "execution_count": 34
        }
      ]
    },
    {
      "cell_type": "code",
      "source": [
        "data_path = '/content/drive/MyDrive/Datasets/bbc-text.csv'"
      ],
      "metadata": {
        "id": "q-eNQ_hhLNjn"
      },
      "execution_count": 4,
      "outputs": []
    },
    {
      "cell_type": "code",
      "source": [
        "def read_data(data_path):\n",
        "    return pd.read_csv(data_path)\n",
        "\n",
        "def get_data_info(df):\n",
        "    print(df.info())\n",
        "    print(f'Description: \\n{df.describe()}')\n",
        "    print()\n",
        "    print(f'Number of rows {df.shape[0]}, Number of Columns: {df.shape[1]}')\n",
        "    print()\n",
        "    print(f'Number of Null values {df.isnull().sum()}')\n",
        "    print()\n",
        "    print(f'Columns: {df.columns}')"
      ],
      "metadata": {
        "id": "_xmvUK-cLX8_"
      },
      "execution_count": 15,
      "outputs": []
    },
    {
      "cell_type": "code",
      "source": [
        "df = read_data(data_path)\n",
        "df.head()"
      ],
      "metadata": {
        "colab": {
          "base_uri": "https://localhost:8080/",
          "height": 206
        },
        "id": "RLUqi7JZMNM-",
        "outputId": "e6f4079d-660a-4b65-98eb-c16de6b55656"
      },
      "execution_count": 6,
      "outputs": [
        {
          "output_type": "execute_result",
          "data": {
            "text/plain": [
              "        category                                               text\n",
              "0           tech  tv future in the hands of viewers with home th...\n",
              "1       business  worldcom boss  left books alone  former worldc...\n",
              "2          sport  tigers wary of farrell  gamble  leicester say ...\n",
              "3          sport  yeading face newcastle in fa cup premiership s...\n",
              "4  entertainment  ocean s twelve raids box office ocean s twelve..."
            ],
            "text/html": [
              "\n",
              "  <div id=\"df-ebd5a1ef-33a8-470a-b743-abbc21a55e17\">\n",
              "    <div class=\"colab-df-container\">\n",
              "      <div>\n",
              "<style scoped>\n",
              "    .dataframe tbody tr th:only-of-type {\n",
              "        vertical-align: middle;\n",
              "    }\n",
              "\n",
              "    .dataframe tbody tr th {\n",
              "        vertical-align: top;\n",
              "    }\n",
              "\n",
              "    .dataframe thead th {\n",
              "        text-align: right;\n",
              "    }\n",
              "</style>\n",
              "<table border=\"1\" class=\"dataframe\">\n",
              "  <thead>\n",
              "    <tr style=\"text-align: right;\">\n",
              "      <th></th>\n",
              "      <th>category</th>\n",
              "      <th>text</th>\n",
              "    </tr>\n",
              "  </thead>\n",
              "  <tbody>\n",
              "    <tr>\n",
              "      <th>0</th>\n",
              "      <td>tech</td>\n",
              "      <td>tv future in the hands of viewers with home th...</td>\n",
              "    </tr>\n",
              "    <tr>\n",
              "      <th>1</th>\n",
              "      <td>business</td>\n",
              "      <td>worldcom boss  left books alone  former worldc...</td>\n",
              "    </tr>\n",
              "    <tr>\n",
              "      <th>2</th>\n",
              "      <td>sport</td>\n",
              "      <td>tigers wary of farrell  gamble  leicester say ...</td>\n",
              "    </tr>\n",
              "    <tr>\n",
              "      <th>3</th>\n",
              "      <td>sport</td>\n",
              "      <td>yeading face newcastle in fa cup premiership s...</td>\n",
              "    </tr>\n",
              "    <tr>\n",
              "      <th>4</th>\n",
              "      <td>entertainment</td>\n",
              "      <td>ocean s twelve raids box office ocean s twelve...</td>\n",
              "    </tr>\n",
              "  </tbody>\n",
              "</table>\n",
              "</div>\n",
              "      <button class=\"colab-df-convert\" onclick=\"convertToInteractive('df-ebd5a1ef-33a8-470a-b743-abbc21a55e17')\"\n",
              "              title=\"Convert this dataframe to an interactive table.\"\n",
              "              style=\"display:none;\">\n",
              "        \n",
              "  <svg xmlns=\"http://www.w3.org/2000/svg\" height=\"24px\"viewBox=\"0 0 24 24\"\n",
              "       width=\"24px\">\n",
              "    <path d=\"M0 0h24v24H0V0z\" fill=\"none\"/>\n",
              "    <path d=\"M18.56 5.44l.94 2.06.94-2.06 2.06-.94-2.06-.94-.94-2.06-.94 2.06-2.06.94zm-11 1L8.5 8.5l.94-2.06 2.06-.94-2.06-.94L8.5 2.5l-.94 2.06-2.06.94zm10 10l.94 2.06.94-2.06 2.06-.94-2.06-.94-.94-2.06-.94 2.06-2.06.94z\"/><path d=\"M17.41 7.96l-1.37-1.37c-.4-.4-.92-.59-1.43-.59-.52 0-1.04.2-1.43.59L10.3 9.45l-7.72 7.72c-.78.78-.78 2.05 0 2.83L4 21.41c.39.39.9.59 1.41.59.51 0 1.02-.2 1.41-.59l7.78-7.78 2.81-2.81c.8-.78.8-2.07 0-2.86zM5.41 20L4 18.59l7.72-7.72 1.47 1.35L5.41 20z\"/>\n",
              "  </svg>\n",
              "      </button>\n",
              "      \n",
              "  <style>\n",
              "    .colab-df-container {\n",
              "      display:flex;\n",
              "      flex-wrap:wrap;\n",
              "      gap: 12px;\n",
              "    }\n",
              "\n",
              "    .colab-df-convert {\n",
              "      background-color: #E8F0FE;\n",
              "      border: none;\n",
              "      border-radius: 50%;\n",
              "      cursor: pointer;\n",
              "      display: none;\n",
              "      fill: #1967D2;\n",
              "      height: 32px;\n",
              "      padding: 0 0 0 0;\n",
              "      width: 32px;\n",
              "    }\n",
              "\n",
              "    .colab-df-convert:hover {\n",
              "      background-color: #E2EBFA;\n",
              "      box-shadow: 0px 1px 2px rgba(60, 64, 67, 0.3), 0px 1px 3px 1px rgba(60, 64, 67, 0.15);\n",
              "      fill: #174EA6;\n",
              "    }\n",
              "\n",
              "    [theme=dark] .colab-df-convert {\n",
              "      background-color: #3B4455;\n",
              "      fill: #D2E3FC;\n",
              "    }\n",
              "\n",
              "    [theme=dark] .colab-df-convert:hover {\n",
              "      background-color: #434B5C;\n",
              "      box-shadow: 0px 1px 3px 1px rgba(0, 0, 0, 0.15);\n",
              "      filter: drop-shadow(0px 1px 2px rgba(0, 0, 0, 0.3));\n",
              "      fill: #FFFFFF;\n",
              "    }\n",
              "  </style>\n",
              "\n",
              "      <script>\n",
              "        const buttonEl =\n",
              "          document.querySelector('#df-ebd5a1ef-33a8-470a-b743-abbc21a55e17 button.colab-df-convert');\n",
              "        buttonEl.style.display =\n",
              "          google.colab.kernel.accessAllowed ? 'block' : 'none';\n",
              "\n",
              "        async function convertToInteractive(key) {\n",
              "          const element = document.querySelector('#df-ebd5a1ef-33a8-470a-b743-abbc21a55e17');\n",
              "          const dataTable =\n",
              "            await google.colab.kernel.invokeFunction('convertToInteractive',\n",
              "                                                     [key], {});\n",
              "          if (!dataTable) return;\n",
              "\n",
              "          const docLinkHtml = 'Like what you see? Visit the ' +\n",
              "            '<a target=\"_blank\" href=https://colab.research.google.com/notebooks/data_table.ipynb>data table notebook</a>'\n",
              "            + ' to learn more about interactive tables.';\n",
              "          element.innerHTML = '';\n",
              "          dataTable['output_type'] = 'display_data';\n",
              "          await google.colab.output.renderOutput(dataTable, element);\n",
              "          const docLink = document.createElement('div');\n",
              "          docLink.innerHTML = docLinkHtml;\n",
              "          element.appendChild(docLink);\n",
              "        }\n",
              "      </script>\n",
              "    </div>\n",
              "  </div>\n",
              "  "
            ]
          },
          "metadata": {},
          "execution_count": 6
        }
      ]
    },
    {
      "cell_type": "code",
      "source": [
        "get_data_info(df)"
      ],
      "metadata": {
        "colab": {
          "base_uri": "https://localhost:8080/"
        },
        "id": "iwMABMbdMQnv",
        "outputId": "40bffc0f-8938-46de-cbe4-d0dae8206087"
      },
      "execution_count": 16,
      "outputs": [
        {
          "output_type": "stream",
          "name": "stdout",
          "text": [
            "<class 'pandas.core.frame.DataFrame'>\n",
            "RangeIndex: 2225 entries, 0 to 2224\n",
            "Data columns (total 2 columns):\n",
            " #   Column    Non-Null Count  Dtype \n",
            "---  ------    --------------  ----- \n",
            " 0   category  2225 non-null   object\n",
            " 1   text      2225 non-null   object\n",
            "dtypes: object(2)\n",
            "memory usage: 34.9+ KB\n",
            "None\n",
            "Description: \n",
            "       category                                               text\n",
            "count      2225                                               2225\n",
            "unique        5                                               2126\n",
            "top       sport  kennedy questions trust of blair lib dem leade...\n",
            "freq        511                                                  2\n",
            "\n",
            "Number of rows 2225, Number of Columns: 2\n",
            "\n",
            "Number of Null values category    0\n",
            "text        0\n",
            "dtype: int64\n",
            "\n",
            "Columns: Index(['category', 'text'], dtype='object')\n"
          ]
        }
      ]
    },
    {
      "cell_type": "code",
      "source": [
        "df['category'].value_counts().plot(kind='pie', autopct='%1.1f%%')\n",
        "plt.ylabel('')"
      ],
      "metadata": {
        "colab": {
          "base_uri": "https://localhost:8080/",
          "height": 265
        },
        "id": "cLjw99VDMYDy",
        "outputId": "07413861-e1c2-44f1-abb2-4c8d7fc6e435"
      },
      "execution_count": 20,
      "outputs": [
        {
          "output_type": "execute_result",
          "data": {
            "text/plain": [
              "Text(0, 0.5, '')"
            ]
          },
          "metadata": {},
          "execution_count": 20
        },
        {
          "output_type": "display_data",
          "data": {
            "text/plain": [
              "<Figure size 432x288 with 1 Axes>"
            ],
            "image/png": "[encoded data removed]"
          },
          "metadata": {}
        }
      ]
    },
    {
      "cell_type": "markdown",
      "source": [
        "# Preprocessing\n",
        "\n",
        "1. convert to lower cases, remove special characters, …\n",
        "2. tokenize (i.e. convert from strings to lists of words)\n",
        "3. remove stopwords (i.e. remove common words that bring noise to the system, like ‘a’, ‘the’, …)\n",
        "4. stemm (i.e. remove -ing, -ly, …, like convert ‘making’ to ‘make’, so that words with same meaning are identified as being the same)\n",
        "5. lemmatize (i.e convert the word into a root word, for example ‘feet’ becomes ‘foot’)"
      ],
      "metadata": {
        "id": "1I8YJNldTElh"
      }
    },
    {
      "cell_type": "code",
      "source": [
        "stop_words = nltk.corpus.stopwords.words('english')\n",
        "def preprocessing(text, stm_flg=False, lem_flg=False, stop_words=stop_words):\n",
        "    text = str(text).lower().strip()\n",
        "    text = text.split()\n",
        "    text = [word for word in text if word not in set(stop_words)]\n",
        "\n",
        "    if stm_flg:\n",
        "        stemmer = nltk.stem.porter.PorterStemmer()\n",
        "        text = [stemmer.stem(word) for word in text]\n",
        "    if lem_flg:\n",
        "        lemma = nltk.stem.wordnet.WordNetLemmatizer()\n",
        "        text = [lemma.lemmatize(word) for word in text]\n",
        "\n",
        "    return ' '.join(text)\n",
        "\n",
        "\n"
      ],
      "metadata": {
        "id": "G4v1fBmaTSek"
      },
      "execution_count": 36,
      "outputs": []
    },
    {
      "cell_type": "code",
      "source": [
        "preprocessing(df['text'][0], lem_flg=True)\n"
      ],
      "metadata": {
        "colab": {
          "base_uri": "https://localhost:8080/",
          "height": 140
        },
        "id": "b2p7B6SaTQ6v",
        "outputId": "a8336199-4861-4876-b061-6e4451ca9092"
      },
      "execution_count": 37,
      "outputs": [
        {
          "output_type": "execute_result",
          "data": {
            "text/plain": [
              "'tv future hand viewer home theatre system plasma high-definition tv digital video recorder moving living room way people watch tv radically different five year time. according expert panel gathered annual consumer electronics show la vega discus new technology impact one favourite pastimes. u leading trend programme content delivered viewer via home network cable satellite telecom company broadband service provider front room portable devices. one talked-about technology ce digital personal video recorder (dvr pvr). set-top box like u tivo uk sky+ system allow people record store play pause forward wind tv programme want. essentially technology allows much personalised tv. also built-in high-definition tv set big business japan u slower take europe lack high-definition programming. people forward wind advert also forget abiding network channel schedule putting together a-la-carte entertainment. u network cable satellite company worried mean term advertising revenue well brand identity viewer loyalty channels. although u lead technology moment also concern raised europe particularly growing uptake service like sky+. happens today see nine month year time uk adam hume bbc broadcast futurologist told bbc news website. like bbc issue lost advertising revenue yet. pressing issue moment commercial uk broadcaster brand loyalty important everyone. talking content brand rather network brand said tim hanlon brand communication firm starcom mediavest. reality broadband connection anybody producer content. added: challenge hard promote programme much choice. mean said stacey jolna senior vice president tv guide tv group way people find content want watch simplified tv viewers. mean network u term channel could take leaf google book search engine future instead scheduler help people find want watch. kind channel model might work younger ipod generation used taking control gadget play them. might suit everyone panel recognised. older generation comfortable familiar schedule channel brand know getting. perhaps want much choice put hand mr hanlon suggested. end kid diaper pushing button already - everything possible available said mr hanlon. ultimately consumer tell market want. 50 000 new gadget technology showcased ce many enhancing tv-watching experience. high-definition tv set everywhere many new model lcd (liquid crystal display) tv launched dvr capability built instead external boxes. one example launched show humax 26-inch lcd tv 80-hour tivo dvr dvd recorder. one u biggest satellite tv company directtv even launched branded dvr show 100-hours recording capability instant replay search function. set pause rewind tv 90 hours. microsoft chief bill gate announced pre-show keynote speech partnership tivo called tivotogo mean people play recorded programme window pc mobile devices. reflect increasing trend freeing multimedia people watch want want.'"
            ],
            "application/vnd.google.colaboratory.intrinsic+json": {
              "type": "string"
            }
          },
          "metadata": {},
          "execution_count": 37
        }
      ]
    },
    {
      "cell_type": "code",
      "source": [
        "# stop words\n",
        "df['clean_text'] = df['text'].apply(lambda x: preprocessing(x, lem_flg=True))"
      ],
      "metadata": {
        "id": "d-4rY7JOM8Sz"
      },
      "execution_count": 39,
      "outputs": []
    },
    {
      "cell_type": "code",
      "source": [
        "df.head()"
      ],
      "metadata": {
        "colab": {
          "base_uri": "https://localhost:8080/",
          "height": 206
        },
        "id": "nFnEVSslWnOc",
        "outputId": "e49af901-1372-4171-9aac-0414f8c32a96"
      },
      "execution_count": 40,
      "outputs": [
        {
          "output_type": "execute_result",
          "data": {
            "text/plain": [
              "        category                                               text  \\\n",
              "0           tech  tv future in the hands of viewers with home th...   \n",
              "1       business  worldcom boss  left books alone  former worldc...   \n",
              "2          sport  tigers wary of farrell  gamble  leicester say ...   \n",
              "3          sport  yeading face newcastle in fa cup premiership s...   \n",
              "4  entertainment  ocean s twelve raids box office ocean s twelve...   \n",
              "\n",
              "                                          clean_text  \n",
              "0  tv future hand viewer home theatre system plas...  \n",
              "1  worldcom bos left book alone former worldcom b...  \n",
              "2  tiger wary farrell gamble leicester say rushed...  \n",
              "3  yeading face newcastle fa cup premiership side...  \n",
              "4  ocean twelve raid box office ocean twelve crim...  "
            ],
            "text/html": [
              "\n",
              "  <div id=\"df-6716e3aa-3a83-4b3c-8358-01fe76d6bb37\">\n",
              "    <div class=\"colab-df-container\">\n",
              "      <div>\n",
              "<style scoped>\n",
              "    .dataframe tbody tr th:only-of-type {\n",
              "        vertical-align: middle;\n",
              "    }\n",
              "\n",
              "    .dataframe tbody tr th {\n",
              "        vertical-align: top;\n",
              "    }\n",
              "\n",
              "    .dataframe thead th {\n",
              "        text-align: right;\n",
              "    }\n",
              "</style>\n",
              "<table border=\"1\" class=\"dataframe\">\n",
              "  <thead>\n",
              "    <tr style=\"text-align: right;\">\n",
              "      <th></th>\n",
              "      <th>category</th>\n",
              "      <th>text</th>\n",
              "      <th>clean_text</th>\n",
              "    </tr>\n",
              "  </thead>\n",
              "  <tbody>\n",
              "    <tr>\n",
              "      <th>0</th>\n",
              "      <td>tech</td>\n",
              "      <td>tv future in the hands of viewers with home th...</td>\n",
              "      <td>tv future hand viewer home theatre system plas...</td>\n",
              "    </tr>\n",
              "    <tr>\n",
              "      <th>1</th>\n",
              "      <td>business</td>\n",
              "      <td>worldcom boss  left books alone  former worldc...</td>\n",
              "      <td>worldcom bos left book alone former worldcom b...</td>\n",
              "    </tr>\n",
              "    <tr>\n",
              "      <th>2</th>\n",
              "      <td>sport</td>\n",
              "      <td>tigers wary of farrell  gamble  leicester say ...</td>\n",
              "      <td>tiger wary farrell gamble leicester say rushed...</td>\n",
              "    </tr>\n",
              "    <tr>\n",
              "      <th>3</th>\n",
              "      <td>sport</td>\n",
              "      <td>yeading face newcastle in fa cup premiership s...</td>\n",
              "      <td>yeading face newcastle fa cup premiership side...</td>\n",
              "    </tr>\n",
              "    <tr>\n",
              "      <th>4</th>\n",
              "      <td>entertainment</td>\n",
              "      <td>ocean s twelve raids box office ocean s twelve...</td>\n",
              "      <td>ocean twelve raid box office ocean twelve crim...</td>\n",
              "    </tr>\n",
              "  </tbody>\n",
              "</table>\n",
              "</div>\n",
              "      <button class=\"colab-df-convert\" onclick=\"convertToInteractive('df-6716e3aa-3a83-4b3c-8358-01fe76d6bb37')\"\n",
              "              title=\"Convert this dataframe to an interactive table.\"\n",
              "              style=\"display:none;\">\n",
              "        \n",
              "  <svg xmlns=\"http://www.w3.org/2000/svg\" height=\"24px\"viewBox=\"0 0 24 24\"\n",
              "       width=\"24px\">\n",
              "    <path d=\"M0 0h24v24H0V0z\" fill=\"none\"/>\n",
              "    <path d=\"M18.56 5.44l.94 2.06.94-2.06 2.06-.94-2.06-.94-.94-2.06-.94 2.06-2.06.94zm-11 1L8.5 8.5l.94-2.06 2.06-.94-2.06-.94L8.5 2.5l-.94 2.06-2.06.94zm10 10l.94 2.06.94-2.06 2.06-.94-2.06-.94-.94-2.06-.94 2.06-2.06.94z\"/><path d=\"M17.41 7.96l-1.37-1.37c-.4-.4-.92-.59-1.43-.59-.52 0-1.04.2-1.43.59L10.3 9.45l-7.72 7.72c-.78.78-.78 2.05 0 2.83L4 21.41c.39.39.9.59 1.41.59.51 0 1.02-.2 1.41-.59l7.78-7.78 2.81-2.81c.8-.78.8-2.07 0-2.86zM5.41 20L4 18.59l7.72-7.72 1.47 1.35L5.41 20z\"/>\n",
              "  </svg>\n",
              "      </button>\n",
              "      \n",
              "  <style>\n",
              "    .colab-df-container {\n",
              "      display:flex;\n",
              "      flex-wrap:wrap;\n",
              "      gap: 12px;\n",
              "    }\n",
              "\n",
              "    .colab-df-convert {\n",
              "      background-color: #E8F0FE;\n",
              "      border: none;\n",
              "      border-radius: 50%;\n",
              "      cursor: pointer;\n",
              "      display: none;\n",
              "      fill: #1967D2;\n",
              "      height: 32px;\n",
              "      padding: 0 0 0 0;\n",
              "      width: 32px;\n",
              "    }\n",
              "\n",
              "    .colab-df-convert:hover {\n",
              "      background-color: #E2EBFA;\n",
              "      box-shadow: 0px 1px 2px rgba(60, 64, 67, 0.3), 0px 1px 3px 1px rgba(60, 64, 67, 0.15);\n",
              "      fill: #174EA6;\n",
              "    }\n",
              "\n",
              "    [theme=dark] .colab-df-convert {\n",
              "      background-color: #3B4455;\n",
              "      fill: #D2E3FC;\n",
              "    }\n",
              "\n",
              "    [theme=dark] .colab-df-convert:hover {\n",
              "      background-color: #434B5C;\n",
              "      box-shadow: 0px 1px 3px 1px rgba(0, 0, 0, 0.15);\n",
              "      filter: drop-shadow(0px 1px 2px rgba(0, 0, 0, 0.3));\n",
              "      fill: #FFFFFF;\n",
              "    }\n",
              "  </style>\n",
              "\n",
              "      <script>\n",
              "        const buttonEl =\n",
              "          document.querySelector('#df-6716e3aa-3a83-4b3c-8358-01fe76d6bb37 button.colab-df-convert');\n",
              "        buttonEl.style.display =\n",
              "          google.colab.kernel.accessAllowed ? 'block' : 'none';\n",
              "\n",
              "        async function convertToInteractive(key) {\n",
              "          const element = document.querySelector('#df-6716e3aa-3a83-4b3c-8358-01fe76d6bb37');\n",
              "          const dataTable =\n",
              "            await google.colab.kernel.invokeFunction('convertToInteractive',\n",
              "                                                     [key], {});\n",
              "          if (!dataTable) return;\n",
              "\n",
              "          const docLinkHtml = 'Like what you see? Visit the ' +\n",
              "            '<a target=\"_blank\" href=https://colab.research.google.com/notebooks/data_table.ipynb>data table notebook</a>'\n",
              "            + ' to learn more about interactive tables.';\n",
              "          element.innerHTML = '';\n",
              "          dataTable['output_type'] = 'display_data';\n",
              "          await google.colab.output.renderOutput(dataTable, element);\n",
              "          const docLink = document.createElement('div');\n",
              "          docLink.innerHTML = docLinkHtml;\n",
              "          element.appendChild(docLink);\n",
              "        }\n",
              "      </script>\n",
              "    </div>\n",
              "  </div>\n",
              "  "
            ]
          },
          "metadata": {},
          "execution_count": 40
        }
      ]
    },
    {
      "cell_type": "markdown",
      "source": [
        "# Splitting Data"
      ],
      "metadata": {
        "id": "jjNEN60-bhM_"
      }
    },
    {
      "cell_type": "code",
      "source": [
        "X = df['clean_text']\n",
        "y = df['category']\n",
        "# Onehot encode target\n",
        "# y = LabelBinarizer().fit_transform(y)\n",
        "\n",
        "X_train, X_test, y_train, y_test = train_test_split(X, y, test_size=0.3, \n",
        "                                                    random_state=42,\n",
        "                                                    stratify=df['category'])\n",
        "\n",
        "print(f'Shape of X_train is: { X_train.shape}')\n",
        "print(f'Shape of X_test is: { X_test.shape}')\n",
        "print(f'Shape of y_train is: { y_train.shape}')\n",
        "print(f'Shape of y_test is: { y_test.shape}')\n"
      ],
      "metadata": {
        "colab": {
          "base_uri": "https://localhost:8080/"
        },
        "id": "njaVBC6_W9LT",
        "outputId": "ce783abc-25ab-43ec-e6a7-72b73fa47b30"
      },
      "execution_count": 45,
      "outputs": [
        {
          "output_type": "stream",
          "name": "stdout",
          "text": [
            "Shape of X_train is: (1557,)\n",
            "Shape of X_test is: (668,)\n",
            "Shape of y_train is: (1557,)\n",
            "Shape of y_test is: (668,)\n"
          ]
        }
      ]
    },
    {
      "cell_type": "code",
      "source": [
        "Max_WORDS = 1500\n",
        "NGRAM_RANGE = (1,2)\n",
        "tf_idf = TfidfVectorizer(max_features=Max_WORDS, ngram_range=NGRAM_RANGE)\n",
        "tf_idf.fit(X_train)"
      ],
      "metadata": {
        "colab": {
          "base_uri": "https://localhost:8080/"
        },
        "id": "g3ZOJt9kb_32",
        "outputId": "1eb0b499-2ed2-49a8-848b-2e8b26df9a46"
      },
      "execution_count": 46,
      "outputs": [
        {
          "output_type": "execute_result",
          "data": {
            "text/plain": [
              "TfidfVectorizer(max_features=1500, ngram_range=(1, 2))"
            ]
          },
          "metadata": {},
          "execution_count": 46
        }
      ]
    },
    {
      "cell_type": "code",
      "source": [
        "clf_logistic = LogisticRegression()\n",
        "model_pipeline = Pipeline([\n",
        "                           ('vectorizer', tf_idf),\n",
        "                           ('clf', clf_logistic)\n",
        "])"
      ],
      "metadata": {
        "id": "8MS-_xMxcAXf"
      },
      "execution_count": 49,
      "outputs": []
    },
    {
      "cell_type": "code",
      "source": [
        "model_pipeline.fit(X_train, y_train)"
      ],
      "metadata": {
        "colab": {
          "base_uri": "https://localhost:8080/"
        },
        "id": "H2_hwGM-hQ4P",
        "outputId": "f094fc44-692c-4976-f7e3-f53825206edd"
      },
      "execution_count": 50,
      "outputs": [
        {
          "output_type": "execute_result",
          "data": {
            "text/plain": [
              "Pipeline(steps=[('vectorizer',\n",
              "                 TfidfVectorizer(max_features=1500, ngram_range=(1, 2))),\n",
              "                ('clf', LogisticRegression())])"
            ]
          },
          "metadata": {},
          "execution_count": 50
        }
      ]
    },
    {
      "cell_type": "code",
      "source": [
        "train_preds = model_pipeline.predict(X_train)\n",
        "test_preds = model_pipeline.predict(X_test)"
      ],
      "metadata": {
        "id": "wxtypVtBhcz9"
      },
      "execution_count": 51,
      "outputs": []
    },
    {
      "cell_type": "code",
      "source": [
        "def evaluate_model(y_true, y_preds, name):\n",
        "    acc = accuracy_score(y_true, y_preds)\n",
        "    clf_report = classification_report(y_true, y_preds)\n",
        "    print(f'{name}')\n",
        "    print(f'Accuracy: {acc}')\n",
        "    print()\n",
        "    print(f'Classifcation Report:\\n{clf_report}')\n",
        "    cm = confusion_matrix(y_true, y_preds, normalize='true')\n",
        "\n",
        "    print(cm)\n",
        "    fig, ax = plt.subplots(figsize=(6,6))\n",
        "\n",
        "\n",
        "    disp = ConfusionMatrixDisplay(confusion_matrix=cm, display_labels=y_true.unique())\n",
        "    disp.plot(cmap='Blues', values_format='.2f', ax=ax, colorbar=False)\n",
        "    plt.xticks(rotation=45)\n",
        "    plt.title(f'{name} Normalized Confusion Matrix')\n",
        "    plt.show()"
      ],
      "metadata": {
        "id": "4TcsliJYhywK"
      },
      "execution_count": 55,
      "outputs": []
    },
    {
      "cell_type": "code",
      "source": [
        "evaluate_model(y_train, train_preds, 'Train')"
      ],
      "metadata": {
        "colab": {
          "base_uri": "https://localhost:8080/",
          "height": 817
        },
        "id": "hCmGc1OYjRxZ",
        "outputId": "e7ebe6af-d099-4842-d4d1-2b5453c7efa7"
      },
      "execution_count": 56,
      "outputs": [
        {
          "output_type": "stream",
          "name": "stdout",
          "text": [
            "Train\n",
            "Accuracy: 0.9929351316634554\n",
            "\n",
            "Classifcation Report:\n",
            "               precision    recall  f1-score   support\n",
            "\n",
            "     business       0.99      0.99      0.99       357\n",
            "entertainment       1.00      1.00      1.00       270\n",
            "     politics       0.99      0.99      0.99       292\n",
            "        sport       0.99      1.00      1.00       357\n",
            "         tech       0.99      0.99      0.99       281\n",
            "\n",
            "     accuracy                           0.99      1557\n",
            "    macro avg       0.99      0.99      0.99      1557\n",
            " weighted avg       0.99      0.99      0.99      1557\n",
            "\n",
            "[[0.99159664 0.         0.00280112 0.         0.00560224]\n",
            " [0.         0.9962963  0.0037037  0.         0.        ]\n",
            " [0.00342466 0.         0.98630137 0.00342466 0.00684932]\n",
            " [0.00280112 0.         0.         0.99719888 0.        ]\n",
            " [0.         0.00355872 0.         0.00355872 0.99288256]]\n"
          ]
        },
        {
          "output_type": "display_data",
          "data": {
            "text/plain": [
              "<Figure size 432x432 with 1 Axes>"
            ],
            "image/png": "[encoded data removed]"
          },
          "metadata": {
            "needs_background": "light"
          }
        }
      ]
    },
    {
      "cell_type": "code",
      "source": [
        "evaluate_model(y_test, test_preds, 'Test')"
      ],
      "metadata": {
        "colab": {
          "base_uri": "https://localhost:8080/",
          "height": 817
        },
        "id": "6ZElihznjXmI",
        "outputId": "fed5debf-7541-4e9c-eea8-8c743340bd48"
      },
      "execution_count": 57,
      "outputs": [
        {
          "output_type": "stream",
          "name": "stdout",
          "text": [
            "Test\n",
            "Accuracy: 0.968562874251497\n",
            "\n",
            "Classifcation Report:\n",
            "               precision    recall  f1-score   support\n",
            "\n",
            "     business       0.95      0.97      0.96       153\n",
            "entertainment       0.97      0.97      0.97       116\n",
            "     politics       0.94      0.95      0.95       125\n",
            "        sport       0.99      1.00      1.00       154\n",
            "         tech       0.97      0.95      0.96       120\n",
            "\n",
            "     accuracy                           0.97       668\n",
            "    macro avg       0.97      0.97      0.97       668\n",
            " weighted avg       0.97      0.97      0.97       668\n",
            "\n",
            "[[0.96732026 0.00653595 0.01960784 0.         0.00653595]\n",
            " [0.00862069 0.96551724 0.02586207 0.         0.        ]\n",
            " [0.016      0.008      0.952      0.008      0.016     ]\n",
            " [0.         0.         0.         1.         0.        ]\n",
            " [0.03333333 0.00833333 0.00833333 0.         0.95      ]]\n"
          ]
        },
        {
          "output_type": "display_data",
          "data": {
            "text/plain": [
              "<Figure size 432x432 with 1 Axes>"
            ],
            "image/png": "[encoded data removed]"
          },
          "metadata": {
            "needs_background": "light"
          }
        }
      ]
    },
    {
      "cell_type": "markdown",
      "source": [
        "## Model Analysis"
      ],
      "metadata": {
        "id": "7pnji4HMqWH-"
      }
    },
    {
      "cell_type": "code",
      "source": [
        "print(f'Model Classes: {model_pipeline.classes_}')"
      ],
      "metadata": {
        "colab": {
          "base_uri": "https://localhost:8080/"
        },
        "id": "c3-fwV6ej4yD",
        "outputId": "0ad98d4f-66a6-4d70-adad-c431bf5b6e42"
      },
      "execution_count": 58,
      "outputs": [
        {
          "output_type": "stream",
          "name": "stdout",
          "text": [
            "Model Classes: ['business' 'entertainment' 'politics' 'sport' 'tech']\n"
          ]
        }
      ]
    },
    {
      "cell_type": "code",
      "source": [
        "voc = tf_idf.vocabulary_\n",
        "NN = 10\n",
        "# Get the 10 (here: NN, which you can adjust yourself) ids of the words with highest weights per category\n",
        "top_words = np.argsort(clf_logistic.coef_,axis=1)[:,-NN:]\n",
        "# inverse map\n",
        "inv_voc = {v:k for k,v in voc.items()}\n",
        "print(inv_voc)"
      ],
      "metadata": {
        "colab": {
          "base_uri": "https://localhost:8080/"
        },
        "id": "45WdE_kjqiCj",
        "outputId": "f593c8e7-b664-4fcb-e82c-094e3e9c5140"
      },
      "execution_count": 62,
      "outputs": [
        {
          "output_type": "stream",
          "name": "stdout",
          "text": [
            "{560: 'future', 827: 'manager', 834: 'mark', 1104: 'refused', 1402: 'two', 746: 'last', 1: '10', 763: 'league', 563: 'game', 260: 'chairman', 1285: 'steve', 287: 'claim', 240: 'cannot', 1492: 'year', 940: 'old', 791: 'liverpool', 1153: 'said', 933: 'offered', 519: 'financial', 337: 'could', 56: 'action', 1347: 'them', 518: 'finance', 1287: 'still', 288: 'claimed', 77: 'agreed', 932: 'offer', 62: 'added', 95: 'also', 55: 'act', 375: 'decided', 78: 'agreement', 448: 'end', 146: 'august', 534: 'following', 543: 'former', 1333: 'team', 317: 'conference', 1364: 'title', 1174: 'season', 1373: 'took', 1277: 'start', 779: 'life', 1326: 'taking', 293: 'club', 1350: 'third', 1143: 'round', 482: 'fa', 353: 'cup', 1471: 'winning', 1345: 'the', 876: 'month', 154: 'award', 930: 'october', 541: 'form', 377: 'defeat', 1494: 'year old', 1329: 'target', 350: 'cross', 339: 'country', 414: 'double', 942: 'olympic', 262: 'champion', 1199: 'set', 821: 'make', 1481: 'world', 263: 'championship', 549: 'france', 7: '15', 374: 'decide', 1455: 'week', 464: 'event', 11: '19', 833: 'march', 309: 'compete', 504: 'feel', 1468: 'win', 32: '30', 23: '2006', 891: 'much', 1014: 'point', 588: 'going', 99: 'ambition', 525: 'first', 546: 'four', 1363: 'time', 1305: 'success', 246: 'career', 1311: 'summer', 212: 'break', 849: 'meet', 795: 'long', 1206: 'short', 1457: 'well', 1386: 'training', 1123: 'return', 402: 'difficult', 808: 'lot', 984: 'past', 90: 'almost', 180: 'behind', 1128: 'right', 1382: 'track', 214: 'britain', 1147: 'ruled', 1077: 'quite', 794: 'london', 1255: 'special', 439: 'economy', 391: 'despite', 669: 'increase', 716: 'job', 20: '2003', 1029: 'potential', 163: 'bank', 1113: 'report', 1408: 'unemployment', 28: '25', 308: 'compared', 75: 'ago', 1498: 'young', 993: 'people', 981: 'particularly', 617: 'hard', 633: 'hit', 1477: 'work', 6: '14', 0: '000', 908: 'new', 344: 'created', 650: 'however', 610: 'half', 807: 'lost', 25: '22', 607: 'growth', 1083: 'rate', 51: 'according', 436: 'economic', 291: 'close', 786: 'link', 927: 'number', 285: 'city', 706: 'israel', 592: 'good', 1383: 'trade', 731: 'key', 486: 'factor', 1366: 'today', 1460: 'west', 1135: 'robert', 405: 'director', 902: 'nearly', 790: 'live', 1030: 'poverty', 785: 'line', 463: 'even', 1486: 'would', 1474: 'without', 151: 'average', 694: 'international', 586: 'go', 1381: 'towards', 234: 'called', 149: 'authority', 1103: 'reform', 1058: 'programme', 343: 'create', 699: 'investment', 1177: 'secretary', 1280: 'state', 1315: 'support', 445: 'election', 713: 'january', 1493: 'year ago', 749: 'last year', 197: 'blair', 483: 'face', 1394: 'trust', 707: 'issue', 618: 'head', 1370: 'tony', 1161: 'say', 484: 'facing', 237: 'campaign', 1075: 'question', 112: 'answer', 1441: 'voter', 528: 'five', 911: 'news', 886: 'mr', 955: 'option', 1328: 'talking', 597: 'government', 1006: 'plan', 577: 'get', 39: '50', 1412: 'university', 114: 'anyone', 1005: 'place', 1445: 'wanted', 1300: 'student', 363: 'david', 314: 'concern', 1044: 'prime', 866: 'minister', 999: 'personal', 596: 'got', 772: 'let', 1348: 'thing', 1019: 'politics', 789: 'little', 1016: 'policy', 781: 'like', 1176: 'second', 764: 'least', 1093: 'reason', 76: 'agree', 215: 'british', 688: 'insisted', 1162: 'saying', 615: 'happened', 703: 'iraq', 914: 'next', 689: 'instead', 1091: 'real', 264: 'chance', 1049: 'problem', 1371: 'tony blair', 526: 'first time', 887: 'mr blair', 1045: 'prime minister', 1154: 'said mr', 189: 'big', 161: 'ban', 141: 'athletics', 202: 'body', 1319: 'suspended', 1415: 'up', 310: 'competition', 708: 'issued', 487: 'failed', 1399: 'turn', 793: 'local', 275: 'chief', 376: 'decision', 19: '2002', 1078: 'race', 1497: 'york', 122: 'april', 584: 'global', 1265: 'sport', 305: 'communication', 826: 'management', 307: 'company', 1149: 'run', 824: 'making', 471: 'example', 1448: 'warning', 956: 'order', 53: 'accused', 1148: 'ruling', 1418: 'us', 1356: 'three', 1475: 'woman', 341: 'course', 1217: 'similar', 684: 'injury', 153: 'avoid', 1150: 'running', 1393: 'true', 868: 'missed', 899: 'national', 1390: 'trial', 430: 'early', 501: 'february', 665: 'included', 909: 'new york', 636: 'holmes', 1430: 'victory', 728: 'kelly', 637: 'home', 1220: 'since', 589: 'gold', 1409: 'union', 555: 'front', 1186: 'sell', 961: 'out', 867: 'minute', 1451: 'way', 1461: 'whether', 60: 'actually', 47: 'able', 507: 'felt', 1419: 'use', 945: 'one', 544: 'forward', 943: 'olympics', 727: 'keep', 523: 'finish', 290: 'clear', 1151: 'russia', 687: 'inside', 462: 'european', 678: 'indoor', 815: 'madrid', 1042: 'previously', 765: 'leave', 194: 'birmingham', 598: 'grand', 10: '18', 594: 'gordon', 221: 'brown', 1396: 'trying', 157: 'back', 92: 'along', 1189: 'senior', 231: 'cabinet', 185: 'best', 691: 'interest', 853: 'message', 175: 'becoming', 330: 'continuing', 1417: 'urged', 852: 'men', 1291: 'stop', 1129: 'rise', 1317: 'sure', 820: 'majority', 640: 'hope', 1086: 're', 1183: 'seek', 740: 'labour', 885: 'mp', 874: 'monday', 850: 'meeting', 292: 'closed', 1353: 'thought', 782: 'likely', 1208: 'show', 846: 'meanwhile', 619: 'health', 717: 'john', 990: 'peer', 801: 'lord', 328: 'continue', 1447: 'warned', 1132: 'rival', 1308: 'suggested', 255: 'central', 514: 'figure', 1008: 'planning', 980: 'particular', 832: 'many', 499: 'fear', 1219: 'simply', 750: 'late', 360: 'damage', 182: 'believe', 513: 'fighting', 1247: 'sound', 948: 'open', 841: 'matter', 1395: 'try', 1054: 'product', 913: 'newspaper', 469: 'evidence', 709: 'it', 1456: 'weekend', 143: 'attempt', 1009: 'play', 408: 'division', 1293: 'story', 1256: 'speculation', 881: 'move', 265: 'chancellor', 1105: 'rejected', 739: 'label', 367: 'deal', 611: 'hand', 1034: 'premiership', 203: 'book', 1297: 'street', 901: 'near', 517: 'final', 979: 'part', 1392: 'trouble', 934: 'offering', 1218: 'simple', 179: 'behaviour', 297: 'come', 1278: 'started', 554: 'friend', 1407: 'understand', 761: 'leadership', 1069: 'public', 470: 'ex', 181: 'belief', 1185: 'seen', 1038: 'press', 1257: 'speech', 744: 'large', 444: 'either', 570: 'general', 983: 'party', 1196: 'serious', 1213: 'sign', 1444: 'want', 1071: 'put', 1048: 'probably', 798: 'look', 931: 'off', 595: 'gordon brown', 822: 'make sure', 889: 'mr brown', 748: 'last week', 571: 'general election', 741: 'labour party', 342: 'court', 1144: 'row', 870: 'mobile', 1001: 'phone', 579: 'giant', 754: 'launched', 1279: 'starting', 1197: 'service', 1212: 'side', 1226: 'six', 810: 'low', 336: 'cost', 356: 'customer', 737: 'known', 211: 'brand', 661: 'important', 1281: 'statement', 524: 'firm', 434: 'easy', 768: 'left', 281: 'choice', 753: 'launch', 512: 'fight', 924: 'nothing', 249: 'case', 335: 'corporate', 174: 'become', 1495: 'years', 1007: 'planned', 61: 'add', 1453: 'website', 455: 'ensure', 321: 'connection', 752: 'latest', 666: 'includes', 695: 'internet', 223: 'budget', 243: 'car', 88: 'allow', 946: 'online', 244: 'card', 474: 'existing', 871: 'mobile phone', 96: 'also said', 1136: 'robinson', 937: 'official', 452: 'england', 295: 'coach', 107: 'andy', 386: 'denied', 1312: 'sunday', 5: '13', 898: 'nation', 806: 'loss', 704: 'ireland', 442: 'effort', 1102: 'referee', 1401: 'tv', 1368: 'told', 168: 'bbc', 1334: 'technology', 736: 'know', 1249: 'south', 72: 'african', 79: 'ahead', 510: 'field', 1156: 'sale', 547: 'fourth', 160: 'ball', 705: 'irish', 1349: 'think', 769: 'legal', 591: 'gone', 1431: 'video', 1420: 'used', 799: 'looked', 415: 'doubt', 1344: 'that', 270: 'charge', 468: 'everything', 413: 'done', 1011: 'player', 340: 'couple', 412: 'dominated', 837: 'martin', 235: 'came', 466: 'every', 581: 'given', 1039: 'pressure', 345: 'credit', 895: 'must', 1012: 'players', 1145: 'rugby', 839: 'match', 1223: 'sir', 1194: 'september', 1227: 'six nation', 1369: 'told bbc', 171: 'bbc sport', 992: 'pension', 379: 'deficit', 842: 'may', 74: 'agency', 1479: 'worker', 558: 'fund', 762: 'leading', 438: 'economist', 184: 'benefit', 192: 'bill', 266: 'change', 559: 'funding', 89: 'allowed', 1101: 'reduce', 690: 'insurance', 987: 'pay', 21: '2004', 755: 'law', 1214: 'signed', 1201: 'several', 851: 'member', 664: 'include', 1225: 'situation', 770: 'legislation', 250: 'cash', 667: 'including', 84: 'airline', 679: 'industry', 125: 'argued', 497: 'favour', 1146: 'rule', 537: 'force', 357: 'cut', 947: 'onto', 1043: 'price', 228: 'business', 1065: 'protect', 1096: 'recent', 332: 'control', 1165: 'scheme', 1411: 'united', 164: 'bankruptcy', 875: 'money', 831: 'manufacturing', 1055: 'production', 670: 'increased', 373: 'december', 1318: 'survey', 1314: 'supply', 674: 'index', 57: 'activity', 1142: 'rose', 925: 'november', 773: 'level', 1121: 'result', 186: 'better', 104: 'analyst', 422: 'driven', 1215: 'significant', 1299: 'strong', 165: 'based', 361: 'data', 303: 'committee', 1117: 'response', 473: 'executive', 973: 'paper', 724: 'june', 476: 'expected', 818: 'main', 970: 'paid', 747: 'last month', 905: 'net', 496: 'faster', 216: 'broadband', 1405: 'uk', 1313: 'super', 495: 'fast', 1198: 'services', 94: 'already', 1322: 'take', 67: 'advantage', 994: 'per', 222: 'bt', 1122: 'retail', 108: 'announced', 1258: 'speed', 532: 'follow', 1438: 'voice', 229: 'buy', 1115: 'research', 960: 'others', 751: 'later', 805: 'losing', 835: 'market', 1203: 'share', 844: 'mean', 906: 'network', 1068: 'provide', 873: 'moment', 232: 'cable', 1262: 'spokesman', 1025: 'position', 1340: 'term', 784: 'limited', 299: 'coming', 383: 'demand', 454: 'enough', 135: 'asked', 796: 'long term', 630: 'highest', 12: '1997', 1260: 'spending', 634: 'hold', 1074: 'quarter', 426: 'due', 962: 'output', 2: '100', 22: '2005', 622: 'held', 410: 'dollar', 627: 'high', 939: 'oil', 604: 'group', 680: 'inflation', 800: 'looking', 903: 'need', 1000: 'peter', 982: 'partner', 1181: 'see', 629: 'higher', 423: 'drop', 692: 'interest rate', 787: 'lion', 1379: 'tour', 242: 'captain', 814: 'made', 1268: 'squad', 1211: 'shown', 429: 'earlier', 416: 'down', 359: 'daily', 71: 'africa', 538: 'forced', 147: 'australia', 111: 'another', 1342: 'test', 771: 'leicester', 259: 'certainly', 93: 'alongside', 527: 'fit', 1013: 'playing', 150: 'available', 963: 'outside', 522: 'fine', 494: 'far', 1358: 'three year', 1099: 'recovery', 969: 'pace', 505: 'fell', 869: 'missing', 539: 'forecast', 1178: 'sector', 479: 'export', 1130: 'rising', 730: 'kept', 490: 'fall', 105: 'analyst said', 917: 'nine', 535: 'food', 625: 'helping', 431: 'earnings', 220: 'brought', 677: 'individual', 1375: 'top', 550: 'fraud', 65: 'admitted', 1478: 'worked', 409: 'document', 103: 'amount', 1250: 'space', 608: 'guilty', 701: 'involved', 102: 'among', 1362: 'tim', 855: 'michael', 673: 'independent', 1377: 'total', 1046: 'private', 166: 'basic', 101: 'american', 1050: 'process', 461: 'europe', 1033: 'predicted', 700: 'investor', 318: 'confidence', 54: 'across', 758: 'le', 745: 'largest', 200: 'blunkett', 1338: 'tell', 809: 'love', 388: 'described', 70: 'affected', 600: 'great', 1118: 'responsibility', 562: 'gain', 50: 'access', 696: 'interview', 1079: 'radio', 85: 'alan', 1241: 'someone', 1490: 'wrong', 1002: 'picked', 1391: 'tried', 1242: 'something', 1365: 'to', 1489: 'written', 1027: 'possible', 1017: 'political', 217: 'broadcast', 1413: 'unlikely', 623: 'help', 578: 'getting', 1202: 'shadow', 364: 'davis', 545: 'found', 1320: 'system', 935: 'office', 686: 'inquiry', 641: 'hoped', 365: 'day', 98: 'always', 1480: 'working', 1092: 'really', 638: 'home secretary', 888: 'mr blunkett', 1403: 'two year', 170: 'bbc radio', 1155: 'said would', 1064: 'proposal', 580: 'give', 492: 'family', 449: 'ended', 941: 'older', 1081: 'raised', 441: 'effect', 333: 'controversial', 819: 'major', 1443: 'wale', 647: 'house', 1271: 'stage', 369: 'debate', 1423: 'value', 882: 'moved', 603: 'ground', 1376: 'tory', 238: 'campbell', 1193: 'separate', 36: '3g', 1282: 'station', 1427: 'via', 417: 'download', 1239: 'software', 711: 'james', 848: 'medium', 621: 'heart', 533: 'followed', 403: 'digital', 1138: 'rock', 120: 'application', 651: 'huge', 145: 'audience', 572: 'generation', 1037: 'president', 226: 'built', 582: 'giving', 326: 'consumer', 1073: 'quality', 613: 'handset', 646: 'hour', 1422: 'using', 116: 'appeal', 830: 'manufacturer', 862: 'million', 355: 'currently', 1428: 'vice', 1304: 'subject', 977: 'parliament', 920: 'nomination', 766: 'led', 1288: 'stock', 1235: 'so', 1041: 'previous', 938: 'often', 1284: 'step', 8: '16', 158: 'backed', 213: 'bring', 996: 'perhaps', 1459: 'went', 1261: 'spent', 178: 'beginning', 173: 'became', 573: 'george', 1289: 'stock market', 1032: 'pre', 1439: 'vote', 467: 'everyone', 475: 'expect', 1327: 'talk', 1131: 'risk', 390: 'designed', 1331: 'tax', 671: 'increasing', 427: 'duty', 81: 'aim', 858: 'middle', 568: 'gave', 1020: 'poll', 660: 'impact', 1112: 'replace', 995: 'performance', 3: '11', 193: 'billion', 1228: 'size', 196: 'black', 949: 'opening', 1207: 'shot', 167: 'battle', 1388: 'treasury', 1090: 'ready', 241: 'capital', 1080: 'raise', 1110: 'remain', 1067: 'proved', 954: 'opposition', 777: 'liberal', 384: 'democrat', 1061: 'promise', 338: 'council', 668: 'income', 187: 'beyond', 778: 'liberal democrat', 1056: 'profit', 1160: 'saw', 41: '5bn', 191: 'biggest', 334: 'copy', 425: 'drug', 113: 'anti', 319: 'confident', 381: 'deliver', 488: 'failure', 605: 'grow', 397: 'development', 1059: 'progress', 316: 'condition', 276: 'chief executive', 712: 'jamie', 1171: 'screen', 58: 'actor', 516: 'film', 959: 'oscar', 1221: 'singer', 1085: 'ray', 272: 'charles', 590: 'golden', 156: 'baby', 298: 'comedy', 498: 'favourite', 152: 'aviator', 1047: 'prize', 1470: 'winner', 59: 'actress', 1140: 'role', 878: 'morgan', 1400: 'turned', 1367: 'together', 802: 'los', 1158: 'saturday', 1332: 'taylor', 557: 'full', 294: 'co', 1275: 'star', 998: 'person', 324: 'considered', 635: 'hollywood', 261: 'challenge', 1346: 'theatre', 639: 'honour', 48: 'academy', 1003: 'picture', 130: 'art', 1442: 'voting', 257: 'ceremony', 863: 'million dollar', 803: 'los angeles', 142: 'attack', 1023: 'popular', 458: 'especially', 378: 'defence', 1224: 'site', 1452: 'web', 1435: 'virus', 986: 'paul', 735: 'king', 1180: 'security', 256: 'centre', 347: 'criminal', 478: 'expert', 304: 'common', 1404: 'type', 997: 'period', 190: 'bigger', 16: '200', 1385: 'traffic', 606: 'growing', 1264: 'spokeswoman', 1302: 'study', 1245: 'soon', 210: 'boy', 1266: 'spot', 1354: 'thousand', 313: 'computer', 401: 'different', 813: 'machine', 1232: 'small', 64: 'address', 1188: 'send', 817: 'mail', 644: 'host', 989: 'pc', 614: 'happen', 734: 'kind', 134: 'ask', 115: 'anything', 1283: 'stay', 121: 'approach', 1084: 'rather', 1259: 'spend', 682: 'information', 1352: 'though', 1429: 'victim', 788: 'list', 1236: 'so called', 394: 'developed', 398: 'device', 520: 'find', 1330: 'task', 1246: 'sort', 654: 'ibm', 662: 'improve', 127: 'around', 1421: 'user', 73: 'age', 446: 'electronics', 1051: 'produce', 44: '70', 400: 'difference', 46: 'ability', 561: 'gadget', 1114: 'reported', 97: 'although', 1372: 'too', 128: 'around world', 279: 'chinese', 710: 'italy', 823: 'maker', 278: 'china', 472: 'exchange', 136: 'asset', 387: 'department', 14: '1bn', 967: 'owned', 540: 'foreign', 1170: 'scottish', 910: 'newcastle', 922: 'north', 1272: 'stake', 4: '12', 714: 'japan', 1004: 'piracy', 893: 'music', 1166: 'school', 82: 'aimed', 657: 'illegal', 1465: 'wide', 440: 'education', 609: 'guy', 1134: 'robbie', 1467: 'williams', 277: 'child', 1094: 'receive', 1116: 'respect', 953: 'opportunity', 656: 'idea', 1463: 'whole', 169: 'bbc news', 1010: 'played', 536: 'football', 1454: 'wednesday', 976: 'park', 944: 'on', 1380: 'tournament', 159: 'bad', 312: 'completely', 1195: 'series', 91: 'alone', 1309: 'suggests', 726: 'keen', 693: 'interested', 280: 'chip', 663: 'in', 531: 'focus', 418: 'dr', 743: 'language', 968: 'owner', 1488: 'writing', 236: 'camera', 1343: 'text', 267: 'changed', 421: 'drive', 1389: 'trend', 207: 'bought', 685: 'innovation', 38: '45', 715: 'japanese', 912: 'news website', 529: 'five year', 971: 'pair', 1191: 'sent', 780: 'light', 1163: 'says', 1108: 'released', 1127: 'richard', 1095: 'received', 1031: 'power', 300: 'comment', 847: 'measure', 69: 'affair', 854: 'met', 1062: 'promised', 698: 'investigation', 26: '23', 1324: 'taken', 18: '2001', 481: 'eye', 352: 'culture', 1254: 'speaking', 760: 'leader', 322: 'conservative', 548: 'fox', 1378: 'tough', 1066: 'protection', 80: 'aid', 1126: 'review', 247: 'carried', 1355: 'threat', 1175: 'seat', 649: 'howard', 856: 'michael howard', 566: 'gaming', 759: 'lead', 1124: 'revealed', 42: '5m', 1410: 'unit', 258: 'certain', 230: 'buying', 1325: 'takeover', 828: 'manchester', 602: 'green', 52: 'account', 950: 'operating', 951: 'operation', 1125: 'revenue', 1205: 'sharing', 1111: 'remains', 1026: 'positive', 1204: 'shareholder', 1240: 'sold', 453: 'english', 1269: 'stadium', 13: '1999', 1499: 'yukos', 757: 'lawyer', 1152: 'russian', 144: 'auction', 1053: 'producer', 43: '60', 569: 'gazprom', 567: 'gas', 1484: 'worldwide', 860: 'mike', 836: 'marketing', 1398: 'tuesday', 224: 'build', 1106: 'relationship', 450: 'energy', 301: 'commercial', 804: 'lose', 491: 'falling', 110: 'annual', 1307: 'suffered', 460: 'euro', 37: '40', 254: 'cent', 329: 'continued', 511: 'fifth', 1237: 'social', 530: 'flight', 30: '27', 632: 'history', 362: 'date', 1496: 'yet', 233: 'call', 480: 'extra', 33: '31', 315: 'concerned', 9: '17', 1458: 'welsh', 131: 'artist', 575: 'germany', 904: 'needed', 723: 'july', 201: 'board', 1018: 'politician', 551: 'free', 1238: 'society', 1098: 'record', 1294: 'straight', 1164: 'scene', 926: 'now', 109: 'announcement', 1464: 'whose', 205: 'born', 974: 'parent', 15: '20', 1301: 'studio', 283: 'christmas', 1469: 'window', 1057: 'program', 1466: 'widely', 857: 'microsoft', 296: 'code', 658: 'image', 616: 'happy', 1487: 'writer', 100: 'america', 1251: 'spain', 958: 'original', 118: 'appeared', 1179: 'secure', 1253: 'spanish', 1359: 'thursday', 916: 'night', 1184: 'seems', 601: 'greater', 936: 'officer', 631: 'him', 349: 'criticised', 129: 'arsenal', 1321: 'tackle', 87: 'all', 407: 'display', 63: 'adding', 966: 'owen', 1482: 'world cup', 829: 'manchester united', 1243: 'song', 1414: 'unveiled', 1222: 'single', 273: 'chart', 271: 'charity', 894: 'musical', 162: 'band', 320: 'confirmed', 928: 'number one', 1182: 'seed', 1361: 'tie', 825: 'man', 919: 'nominated', 883: 'movie', 783: 'limit', 897: 'named', 1167: 'science', 396: 'developing', 1060: 'project', 485: 'fact', 896: 'name', 419: 'drama', 251: 'category', 1406: 'ukip', 459: 'eu', 774: 'lib', 385: 'dems', 302: 'commission', 624: 'helped', 348: 'critic', 1233: 'smaller', 776: 'lib dems', 1263: 'spokesman said', 838: 'massive', 1192: 'sentence', 354: 'current', 797: 'longer', 991: 'penalty', 645: 'hotel', 859: 'might', 49: 'accept', 972: 'panel', 1446: 'war', 68: 'advice', 1433: 'view', 907: 'never', 1036: 'presented', 489: 'fair', 1070: 'published', 1097: 'recently', 351: 'crucial', 382: 'dem', 775: 'lib dem', 643: 'hospital', 877: 'months', 845: 'meant', 988: 'paying', 1088: 'reached', 331: 'contract', 1485: 'worth', 245: 'care', 1357: 'three month', 756: 'lawsuit', 17: '2000', 1292: 'store', 816: 'magazine', 811: 'lower', 952: 'operator', 1100: 'red', 742: 'lack', 465: 'ever', 515: 'file', 1426: 'version', 204: 'boost', 1107: 'release', 812: 'mac', 957: 'organisation', 1072: 'putting', 155: 'away', 137: 'association', 1210: 'showing', 521: 'finding', 1187: 'selling', 123: 'area', 672: 'increasingly', 503: 'fee', 792: 'loan', 274: 'chelsea', 1021: 'poor', 306: 'community', 1169: 'scotland', 1209: 'showed', 447: 'else', 1274: 'standard', 282: 'chris', 1296: 'straw', 1252: 'spam', 424: 'dropped', 176: 'began', 1306: 'successful', 1384: 'trading', 1360: 'ticket', 648: 'housing', 1351: 'thomas', 612: 'handed', 738: 'la', 1133: 'road', 915: 'next year', 392: 'detail', 1159: 'save', 697: 'introduced', 40: '500', 921: 'non', 1082: 'range', 719: 'join', 457: 'environment', 964: 'over', 368: 'death', 432: 'easier', 183: 'believed', 311: 'complaint', 253: 'cell', 652: 'human', 286: 'civil', 722: 'judge', 725: 'justice', 653: 'human right', 985: 'patent', 1476: 'word', 552: 'french', 872: 'model', 395: 'developer', 1316: 'supporter', 1449: 'watch', 493: 'fan', 508: 'ferguson', 206: 'bos', 420: 'draw', 1234: 'smith', 1298: 'strike', 1437: 'visitor', 884: 'moving', 477: 'experience', 83: 'air', 1035: 'present', 965: 'overall', 1200: 'seven', 327: 'content', 1273: 'stand', 252: 'cause', 1190: 'sense', 1015: 'police', 1230: 'sky', 553: 'friday', 720: 'joined', 372: 'decade', 346: 'crime', 1270: 'staff', 1473: 'within', 225: 'building', 269: 'character', 195: 'bit', 1076: 'quickly', 1425: 'vehicle', 208: 'box', 509: 'festival', 284: 'cinema', 1141: 'room', 199: 'blue', 27: '24', 433: 'east', 218: 'broken', 1337: 'television', 456: 'entertainment', 289: 'clarke', 1434: 'viewer', 500: 'feature', 148: 'australian', 34: '35', 1462: 'white', 133: 'asian', 1295: 'strategy', 683: 'initiative', 676: 'indian', 371: 'debut', 1290: 'stone', 1310: 'sullivan', 864: 'mind', 929: 'obviously', 642: 'hoping', 681: 'influence', 45: '80', 1063: 'property', 406: 'disaster', 323: 'consider', 1028: 'post', 1248: 'source', 370: 'debt', 132: 'asia', 556: 'fuel', 248: 'carry', 502: 'federal', 66: 'adult', 506: 'fellow', 620: 'hearing', 86: 'album', 172: 'beat', 1022: 'pop', 1172: 'search', 593: 'google', 574: 'german', 675: 'india', 900: 'natural', 366: 'de', 659: 'immigration', 890: 'mr howard', 325: 'console', 411: 'domestic', 399: 'died', 404: 'direct', 861: 'milburn', 35: '3bn', 1087: 'reach', 443: 'eight', 437: 'economic growth', 188: 'bid', 106: 'andrew', 1323: 'take place', 1303: 'style', 380: 'definition', 1244: 'sony', 628: 'high definition', 892: 'murder', 177: 'begin', 24: '21', 1157: 'san', 119: 'apple', 138: 'asylum', 1339: 'tennis', 978: 'parry', 576: 'gerrard', 1286: 'steven', 117: 'appear', 139: 'athens', 29: '26', 140: 'athlete', 1436: 'visit', 721: 'jones', 1229: 'skill', 718: 'johnson', 1168: 'score', 1374: 'tool', 565: 'games', 1432: 'video game', 587: 'goal', 1040: 'pretty', 1024: 'portable', 1120: 'rest', 1450: 'watchdog', 1336: 'telephone', 1089: 'read', 1335: 'telecom', 358: 'cutting', 31: '28', 1397: 'tsunami', 1387: 'travel', 393: 'deutsche', 1276: 'starring', 239: 'candidate', 626: 'hewitt', 1231: 'slam', 1139: 'roddick', 1440: 'voted', 599: 'grand slam', 209: 'box office', 975: 'paris', 1109: 'relief', 198: 'blog', 840: 'material', 923: 'northern', 428: 'dvd', 1491: 'xbox', 389: 'design', 268: 'channel', 219: 'brother', 1119: 'responsible', 732: 'kilroy', 1216: 'silk', 733: 'kilroy silk', 126: 'arm', 865: 'mini', 227: 'bush', 1052: 'produced', 1424: 'van', 729: 'kennedy', 1472: 'wireless', 1267: 'spyware', 451: 'engine', 880: 'mourinho', 702: 'ipod', 1137: 'robot', 124: 'argentina', 564: 'gamers', 918: 'nintendo', 1416: 'urban', 1173: 'search engine', 1341: 'terrorist', 879: 'mortgage', 655: 'id', 767: 'lee', 542: 'format', 843: 'mci', 1483: 'worldcom', 435: 'ebbers', 583: 'glazer', 585: 'gm'}\n"
          ]
        }
      ]
    },
    {
      "cell_type": "code",
      "source": [
        "top_words[0]"
      ],
      "metadata": {
        "colab": {
          "base_uri": "https://localhost:8080/"
        },
        "id": "gqTdg0RtqsX9",
        "outputId": "39d68e54-32d8-430d-aa35-56f17d30b3d6"
      },
      "execution_count": 64,
      "outputs": [
        {
          "output_type": "execute_result",
          "data": {
            "text/plain": [
              "array([ 228,  607, 1043, 1056,  436,  835, 1203,  163,  524,  307])"
            ]
          },
          "metadata": {},
          "execution_count": 64
        }
      ]
    },
    {
      "cell_type": "code",
      "source": [
        "for n, category in enumerate(model_pipeline.classes_):\n",
        "    print(category,': ')\n",
        "    for i in range(NN):\n",
        "        if i!=NN-1:\n",
        "            print(inv_voc[top_words[n, i]], end=',')\n",
        "        else:\n",
        "            print(inv_voc[top_words[n, i]])\n",
        "    print()\n",
        "\n"
      ],
      "metadata": {
        "colab": {
          "base_uri": "https://localhost:8080/"
        },
        "id": "FuNCL4ryu13z",
        "outputId": "e0be5e1f-3330-494b-b38e-a78e0c4ac229"
      },
      "execution_count": 70,
      "outputs": [
        {
          "output_type": "stream",
          "name": "stdout",
          "text": [
            "business : \n",
            "business,growth,price,profit,economic,market,share,bank,firm,company\n",
            "\n",
            "entertainment : \n",
            "chart,award,album,tv,singer,band,star,music,show,film\n",
            "\n",
            "politics : \n",
            "mp,blair,election,tory,lord,minister,labour,mr,government,party\n",
            "\n",
            "sport : \n",
            "olympic,season,team,coach,win,cup,player,champion,club,match\n",
            "\n",
            "tech : \n",
            "site,digital,people,online,mobile,user,software,technology,computer,game\n",
            "\n"
          ]
        }
      ]
    },
    {
      "cell_type": "code",
      "source": [
        ""
      ],
      "metadata": {
        "id": "QgRHRFiHvICT"
      },
      "execution_count": null,
      "outputs": []
    }
  ]
}