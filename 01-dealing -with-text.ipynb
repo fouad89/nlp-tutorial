{
 "cells": [
  {
   "cell_type": "markdown",
   "source": [
    "using embeddings to convert words into a T x D matrix of numbers<br>\n",
    "** read about word3vec and GloVe\n",
    "\n",
    "<ol>\n",
    "<li>Convert words into integers (indices into the word embedding matrix)</li>\n",
    "<li>Mapping from words to integer</li>\n",
    "<li>integers start from 1 not 0 because 0 is used for padding</li>\n",
    "<li>convert strings to sequences</li>\n",
    "<li>Tokenize: each string is a single word</li>\n",
    "<li>The process is string to tokens to integers to vectors</li>\n",
    "<li>Padding: to make sequences the same length</li>\n",
    "<li>N is the number of lists of integers</li>\n",
    "<li>T is the length of the sequence</li>\n",
    "<li>Truncating pre or post</li>\n",
    "<li>Padding: pre or post</li>\n",
    "</ol>"
   ],
   "metadata": {}
  },
  {
   "cell_type": "markdown",
   "source": [
    "We have an N x T matrix of word indices. When passed by the embedding layer, we get N x T x D tensor converting it into a word vector. "
   ],
   "metadata": {}
  },
  {
   "cell_type": "code",
   "execution_count": 20,
   "source": [
    "# preprocessing text\n",
    "import csv\n",
    "from nltk.corpus import stopwords\n",
    "import numpy as np \n",
    "import pandas as pd\n",
    "from tensorflow.keras.preprocessing.text import Tokenizer\n",
    "from tensorflow.keras.preprocessing.sequence import pad_sequences"
   ],
   "outputs": [],
   "metadata": {}
  },
  {
   "cell_type": "code",
   "execution_count": 5,
   "source": [
    "# using list of stop words to remove from text\n",
    "stop_words = stopwords.words(\"english\")\n",
    "print(len(stop_words))"
   ],
   "outputs": [
    {
     "output_type": "stream",
     "name": "stdout",
     "text": [
      "153\n"
     ]
    }
   ],
   "metadata": {}
  },
  {
   "cell_type": "code",
   "execution_count": 6,
   "source": [
    "# preprocessing text\n",
    "texts = []\n",
    "labels = []\n",
    "# reading the data. \n",
    "# for each row, the first item is the label\n",
    "with open('data/bbc-text.csv','r') as file: # reading the files\n",
    "    data = csv.reader(file)\n",
    "    next(data, None)\n",
    "    for row in data:\n",
    "        labels.append(row[0])\n",
    "        sentence = row[1]\n",
    "        for word in stop_words: # replacing tokens with an empty space, and then replacing double space with a single space\n",
    "            token = ' ' + word + ' '\n",
    "            sentence = sentence.replace(token,' ')\n",
    "            sentence = sentence.replace('  ', ' ')\n",
    "        texts.append(sentence)\n",
    "\n",
    "        \n",
    "print(len(labels))\n",
    "print(len(texts))\n"
   ],
   "outputs": [
    {
     "output_type": "stream",
     "name": "stdout",
     "text": [
      "2225\n",
      "2225\n"
     ]
    }
   ],
   "metadata": {}
  },
  {
   "cell_type": "code",
   "execution_count": 19,
   "source": [
    "MAX_VOCAB_SIZE = 10000\n",
    "# out of words token\n",
    "oov_tok = '<OOV>'\n",
    "# padding\n",
    "padding_type = 'post'\n",
    "trunc_type = 'post'\n",
    "max_len = 120\n",
    "\n",
    "# embedding\n",
    "embedding_dim = 16\n",
    "tokenizer = Tokenizer(num_words = MAX_VOCAB_SIZE)\n",
    "tokenizer.fit_on_texts(texts)\n",
    "# a dictionary of words as key and integer as value\n",
    "word_index = tokenizer.word_index\n",
    "# convert to sequences\n",
    "sequences = tokenizer.texts_to_sequences(texts)\n",
    "# padding\n",
    "padded = pad_sequences(sequences, maxlen=max_len ,truncating=trunc_type, padding=trunc_type)\n",
    "print(f\"Shape of padded sequences: {padded.shape}\")"
   ],
   "outputs": [
    {
     "output_type": "stream",
     "name": "stdout",
     "text": [
      "Shape of padded sequences: (2225, 120)\n"
     ]
    }
   ],
   "metadata": {}
  },
  {
   "cell_type": "code",
   "execution_count": 23,
   "source": [
    "# tokenizing labels\n",
    "label_tokenizer = Tokenizer()\n",
    "label_tokenizer.fit_on_texts(labels)\n",
    "label_index = label_tokenizer.word_index\n",
    "print(label_index)\n",
    "label_seq = np.array(label_tokenizer.texts_to_sequences(labels))\n",
    "print(label_seq.shape)"
   ],
   "outputs": [
    {
     "output_type": "stream",
     "name": "stdout",
     "text": [
      "{'sport': 1, 'business': 2, 'politics': 3, 'tech': 4, 'entertainment': 5}\n",
      "(2225, 1)\n"
     ]
    }
   ],
   "metadata": {}
  },
  {
   "cell_type": "code",
   "execution_count": 34,
   "source": [
    "# splitting the data\n",
    "training_size = int(np.ceil(0.8 * len(texts)))\n",
    "X_train, X_valid = padded[:training_size], padded[training_size:]\n",
    "y_train, y_valid = label_seq[:training_size], label_seq[training_size:]\n",
    "print(f\"Shape of X_train {X_train.shape}\")\n",
    "print(f\"Shape of X_valid {X_valid.shape}\")\n",
    "print(f\"Shape of y_train {y_train.shape}\")\n",
    "print(f\"Shape of y_valid {y_valid.shape}\")"
   ],
   "outputs": [
    {
     "output_type": "stream",
     "name": "stdout",
     "text": [
      "Shape of X_train (1780, 120)\n",
      "Shape of X_valid (445, 120)\n",
      "Shape of y_train (1780, 1)\n",
      "Shape of y_valid (445, 1)\n"
     ]
    }
   ],
   "metadata": {}
  },
  {
   "cell_type": "markdown",
   "source": [
    "# Modeling"
   ],
   "metadata": {}
  },
  {
   "cell_type": "code",
   "execution_count": 38,
   "source": [
    "from tensorflow.keras.layers import Input, GlobalAveragePooling1D, Dense\n",
    "from tensorflow.keras.layers import Embedding, LSTM\n",
    "from tensorflow.keras.models import Model"
   ],
   "outputs": [],
   "metadata": {}
  },
  {
   "cell_type": "code",
   "execution_count": null,
   "source": [
    "# model\n",
    "i = Model(shape=(max_len)) # input layer"
   ],
   "outputs": [],
   "metadata": {}
  }
 ],
 "metadata": {
  "orig_nbformat": 4,
  "language_info": {
   "name": "python",
   "version": "3.7.6",
   "mimetype": "text/x-python",
   "codemirror_mode": {
    "name": "ipython",
    "version": 3
   },
   "pygments_lexer": "ipython3",
   "nbconvert_exporter": "python",
   "file_extension": ".py"
  },
  "kernelspec": {
   "name": "python3",
   "display_name": "Python 3.7.6 64-bit ('base': conda)"
  },
  "interpreter": {
   "hash": "016f416f43c7de9d71e7f049375c6b8b903fae571cb02d2ed6c16dadea121115"
  }
 },
 "nbformat": 4,
 "nbformat_minor": 2
}