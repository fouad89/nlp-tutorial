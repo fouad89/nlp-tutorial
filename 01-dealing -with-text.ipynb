{
 "cells": [
  {
   "cell_type": "markdown",
   "source": [
    "using embeddings to convert words into a T x D matrix of numbers<br>\n",
    "** read about word3vec and GloVe\n",
    "\n",
    "<ol>\n",
    "<li>Convert words into integers (indices into the word embedding matrix)</li>\n",
    "<li>Mapping from words to integer</li>\n",
    "<li>integers start from 1 not 0 because 0 is used for padding</li>\n",
    "<li>convert strings to sequences</li>\n",
    "<li>Tokenize: each string is a single word</li>\n",
    "<li>The process is string to tokens to integers to vectors</li>\n",
    "<li>Padding: to make sequences the same length</li>\n",
    "<li>N is the number of lists of integers</li>\n",
    "<li>T is the length of the sequence</li>\n",
    "<li>Truncating pre or post</li>\n",
    "<li>Padding: pre or post</li>\n",
    "</ol>"
   ],
   "metadata": {}
  },
  {
   "cell_type": "markdown",
   "source": [],
   "metadata": {}
  },
  {
   "cell_type": "markdown",
   "source": [
    "$\\rightarrow$"
   ],
   "metadata": {}
  },
  {
   "cell_type": "code",
   "execution_count": null,
   "source": [],
   "outputs": [],
   "metadata": {}
  }
 ],
 "metadata": {
  "orig_nbformat": 4,
  "language_info": {
   "name": "python"
  }
 },
 "nbformat": 4,
 "nbformat_minor": 2
}