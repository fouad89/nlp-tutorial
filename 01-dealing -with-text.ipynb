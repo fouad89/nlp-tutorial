{
 "cells": [
  {
   "cell_type": "markdown",
   "source": [
    "using embeddings to convert words into a T x D matrix of numbers<br>\n",
    "** read about word3vec and GloVe\n",
    "\n",
    "<ol>\n",
    "<li>Convert words into integers (indices into the word embedding matrix)</li>\n",
    "<li>Mapping from words to integer</li>\n",
    "<li>integers start from 1 not 0 because 0 is used for padding</li>\n",
    "<li>convert strings to sequences</li>\n",
    "<li>Tokenize: each string is a single word</li>\n",
    "<li>The process is string to tokens to integers to vectors</li>\n",
    "<li>Padding: to make sequences the same length</li>\n",
    "<li>N is the number of lists of integers</li>\n",
    "<li>T is the length of the sequence</li>\n",
    "<li>Truncating pre or post</li>\n",
    "<li>Padding: pre or post</li>\n",
    "</ol>"
   ],
   "metadata": {}
  },
  {
   "cell_type": "markdown",
   "source": [
    "We have an N x T matrix of word indices. When passed by the embedding layer, we get N x T x D tensor converting it into a word vector. "
   ],
   "metadata": {}
  },
  {
   "cell_type": "code",
   "execution_count": 20,
   "source": [
    "# preprocessing text\n",
    "import csv\n",
    "from nltk.corpus import stopwords\n",
    "import numpy as np \n",
    "import pandas as pd\n",
    "from tensorflow.keras.preprocessing.text import Tokenizer\n",
    "from tensorflow.keras.preprocessing.sequence import pad_sequences"
   ],
   "outputs": [],
   "metadata": {}
  },
  {
   "cell_type": "code",
   "execution_count": 5,
   "source": [
    "# using list of stop words to remove from text\n",
    "stop_words = stopwords.words(\"english\")\n",
    "print(len(stop_words))"
   ],
   "outputs": [
    {
     "output_type": "stream",
     "name": "stdout",
     "text": [
      "153\n"
     ]
    }
   ],
   "metadata": {}
  },
  {
   "cell_type": "code",
   "execution_count": 6,
   "source": [
    "# preprocessing text\n",
    "texts = []\n",
    "labels = []\n",
    "# reading the data. \n",
    "# for each row, the first item is the label\n",
    "with open('data/bbc-text.csv','r') as file: # reading the files\n",
    "    data = csv.reader(file)\n",
    "    next(data, None)\n",
    "    for row in data:\n",
    "        labels.append(row[0])\n",
    "        sentence = row[1]\n",
    "        for word in stop_words: # replacing tokens with an empty space, and then replacing double space with a single space\n",
    "            token = ' ' + word + ' '\n",
    "            sentence = sentence.replace(token,' ')\n",
    "            sentence = sentence.replace('  ', ' ')\n",
    "        texts.append(sentence)\n",
    "\n",
    "        \n",
    "print(len(labels))\n",
    "print(len(texts))\n"
   ],
   "outputs": [
    {
     "output_type": "stream",
     "name": "stdout",
     "text": [
      "2225\n",
      "2225\n"
     ]
    }
   ],
   "metadata": {}
  },
  {
   "cell_type": "code",
   "execution_count": 45,
   "source": [
    "MAX_VOCAB_SIZE = 10000\n",
    "# out of words token\n",
    "oov_tok = '<OOV>'\n",
    "# padding\n",
    "padding_type = 'post'\n",
    "trunc_type = 'post'\n",
    "max_len = 120\n",
    "\n",
    "# splitting data into train and validation\n",
    "training_size = int(np.ceil(0.8 * len(texts)))\n",
    "X_train, X_valid = texts[:training_size], texts[training_size:]\n",
    "y_train, y_valid = labels[:training_size], labels[training_size:]\n",
    "\n",
    "tokenizer = Tokenizer(num_words = MAX_VOCAB_SIZE)\n",
    "tokenizer.fit_on_texts(X_train)\n",
    "# a dictionary of words as key and integer as value\n",
    "word_index = tokenizer.word_index\n",
    "V = len(word_index)\n",
    "print(f\"There are {V} unique tokens\")\n",
    "# convert to sequences\n",
    "sequences = tokenizer.texts_to_sequences(X_train)\n",
    "# padding\n",
    "padded = pad_sequences(sequences, maxlen=max_len ,truncating=trunc_type, padding=trunc_type)\n",
    "print(f\"Shape of padded sequences: {padded.shape}\")\n",
    "\n",
    "valid_seq = tokenizer.texts_to_sequences(X_valid)\n",
    "valid_padded = pad_sequences(valid_seq, maxlen=max_len, padding=padding_type, truncating=trunc_type)\n",
    "print(f\"Validation data shape: {valid_padded.shape}\")"
   ],
   "outputs": [
    {
     "output_type": "stream",
     "name": "stdout",
     "text": [
      "There are 27269 unique tokens\n",
      "Shape of padded sequences: (1780, 120)\n",
      "Validation data shape: (445, 120)\n"
     ]
    }
   ],
   "metadata": {}
  },
  {
   "cell_type": "code",
   "execution_count": 42,
   "source": [
    "# tokenizing labels\n",
    "label_tokenizer = Tokenizer()\n",
    "label_tokenizer.fit_on_texts(y_train)\n",
    "label_index = label_tokenizer.word_index\n",
    "print(label_index)\n",
    "label_seq = np.array(label_tokenizer.texts_to_sequences(y_train))\n",
    "print(label_seq.shape)\n",
    "valid_label_seq = np.array(label_tokenizer.texts_to_sequences(y_valid))\n",
    "print(valid_label_seq.shape)\n",
    "\n"
   ],
   "outputs": [
    {
     "output_type": "stream",
     "name": "stdout",
     "text": [
      "{'sport': 1, 'business': 2, 'politics': 3, 'entertainment': 4, 'tech': 5}\n",
      "(1780, 1)\n",
      "(445, 1)\n"
     ]
    }
   ],
   "metadata": {}
  },
  {
   "cell_type": "markdown",
   "source": [
    "# Modeling"
   ],
   "metadata": {}
  },
  {
   "cell_type": "code",
   "execution_count": 46,
   "source": [
    "from tensorflow.keras.layers import Input, GlobalMaxPool1D, Dense\n",
    "from tensorflow.keras.layers import Embedding, LSTM\n",
    "from tensorflow.keras.models import Model"
   ],
   "outputs": [],
   "metadata": {}
  },
  {
   "cell_type": "code",
   "execution_count": 48,
   "source": [
    "# model\n",
    "\n",
    "# embedding dimensions\n",
    "T = max_len\n",
    "D = 16\n",
    "M = 24 # hidden state dimensions\n",
    "O = len(label_index)\n",
    "i = Input(shape=(T,)) # input layer\n",
    "# size of embedding is V+1 because index starts from 1 instead of 0\n",
    "# If the final index of the embedding matrix is V, then it must have size V+1\n",
    "x = Embedding(V +1, D)(i)\n",
    "x = LSTM(M, return_sequences=True)(x)\n",
    "x = GlobalMaxPool1D()(x)\n",
    "x = Dense(O, activation='sigmoid')(x)\n",
    "\n",
    "model = Model(i,x)\n"
   ],
   "outputs": [],
   "metadata": {}
  },
  {
   "cell_type": "code",
   "execution_count": 49,
   "source": [
    "model.compile(\n",
    "    loss='binary_crossentropy',\n",
    "    optimizer='adam',\n",
    "    metrics=['accuracy']\n",
    ")"
   ],
   "outputs": [],
   "metadata": {}
  },
  {
   "cell_type": "code",
   "execution_count": null,
   "source": [],
   "outputs": [],
   "metadata": {}
  }
 ],
 "metadata": {
  "orig_nbformat": 4,
  "language_info": {
   "name": "python",
   "version": "3.7.6",
   "mimetype": "text/x-python",
   "codemirror_mode": {
    "name": "ipython",
    "version": 3
   },
   "pygments_lexer": "ipython3",
   "nbconvert_exporter": "python",
   "file_extension": ".py"
  },
  "kernelspec": {
   "name": "python3",
   "display_name": "Python 3.7.6 64-bit ('base': conda)"
  },
  "interpreter": {
   "hash": "016f416f43c7de9d71e7f049375c6b8b903fae571cb02d2ed6c16dadea121115"
  }
 },
 "nbformat": 4,
 "nbformat_minor": 2
}