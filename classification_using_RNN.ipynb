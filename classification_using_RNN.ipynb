{
  "nbformat": 4,
  "nbformat_minor": 0,
  "metadata": {
    "colab": {
      "name": "classification_using_RNN.ipynb",
      "provenance": [],
      "collapsed_sections": [],
      "mount_file_id": "1jnbvE6RnvD5LAmI8P1xn1lm2VfcMAzzc",
      "authorship_tag": "ABX9TyML2BiM/RZWBnDs8uVnjWNH",
      "include_colab_link": true
    },
    "kernelspec": {
      "name": "python3",
      "display_name": "Python 3"
    },
    "language_info": {
      "name": "python"
    }
  },
  "cells": [
    {
      "cell_type": "markdown",
      "metadata": {
        "id": "view-in-github",
        "colab_type": "text"
      },
      "source": [
        "<a href=\"https://colab.research.google.com/github/fouad89/nlp-tutorial/blob/main/classification_using_RNN.ipynb\" target=\"_parent\"><img src=\"https://colab.research.google.com/assets/colab-badge.svg\" alt=\"Open In Colab\"/></a>"
      ]
    },
    {
      "cell_type": "code",
      "execution_count": 40,
      "metadata": {
        "id": "YQE-qrAb4VDY"
      },
      "outputs": [],
      "source": [
        "import numpy as np\n",
        "import pandas as pd\n",
        "import matplotlib.pyplot as plt\n",
        "\n",
        "import tensorflow as tf\n",
        "from sklearn.model_selection import train_test_split\n",
        "from sklearn.metrics import classification_report, ConfusionMatrixDisplay, confusion_matrix, accuracy_score\n",
        "from sklearn.preprocessing import LabelBinarizer\n",
        "from tensorflow.keras.utils import to_categorical\n",
        "from tensorflow.keras.preprocessing.text import Tokenizer\n",
        "from tensorflow.keras.preprocessing.sequence import pad_sequences\n",
        "from tensorflow.keras.layers import Input, Embedding, Bidirectional, LSTM, Dense, Dropout\n",
        "from tensorflow.keras.models import Model\n",
        "from tensorflow.keras.utils import plot_model\n",
        "import gensim.downloader as api\n",
        "import nltk\n"
      ]
    },
    {
      "cell_type": "code",
      "source": [
        "data_path = '/content/drive/MyDrive/Datasets/bbc-text.csv'\n",
        "def read_data(data_path):\n",
        "    return pd.read_csv(data_path)\n",
        "\n",
        "def get_data_info(df):\n",
        "    print(df.info())\n",
        "    print(f'Description: \\n{df.describe()}')\n",
        "    print()\n",
        "    print(f'Number of rows {df.shape[0]}, Number of Columns: {df.shape[1]}')\n",
        "    print()\n",
        "    print(f'Number of Null values {df.isnull().sum()}')\n",
        "    print()\n",
        "    print(f'Columns: {df.columns}')"
      ],
      "metadata": {
        "id": "5odUf26v_klZ"
      },
      "execution_count": 3,
      "outputs": []
    },
    {
      "cell_type": "code",
      "source": [
        "df = read_data(data_path)\n",
        "get_data_info(df)"
      ],
      "metadata": {
        "colab": {
          "base_uri": "https://localhost:8080/"
        },
        "id": "iIKfCXtuL7HA",
        "outputId": "45304a21-ed57-4c0d-cf11-81c3007bce70"
      },
      "execution_count": 4,
      "outputs": [
        {
          "output_type": "stream",
          "name": "stdout",
          "text": [
            "<class 'pandas.core.frame.DataFrame'>\n",
            "RangeIndex: 2225 entries, 0 to 2224\n",
            "Data columns (total 2 columns):\n",
            " #   Column    Non-Null Count  Dtype \n",
            "---  ------    --------------  ----- \n",
            " 0   category  2225 non-null   object\n",
            " 1   text      2225 non-null   object\n",
            "dtypes: object(2)\n",
            "memory usage: 34.9+ KB\n",
            "None\n",
            "Description: \n",
            "       category                                               text\n",
            "count      2225                                               2225\n",
            "unique        5                                               2126\n",
            "top       sport  kennedy questions trust of blair lib dem leade...\n",
            "freq        511                                                  2\n",
            "\n",
            "Number of rows 2225, Number of Columns: 2\n",
            "\n",
            "Number of Null values category    0\n",
            "text        0\n",
            "dtype: int64\n",
            "\n",
            "Columns: Index(['category', 'text'], dtype='object')\n"
          ]
        }
      ]
    },
    {
      "cell_type": "markdown",
      "source": [
        "# Preparing Input Data"
      ],
      "metadata": {
        "id": "z2R1p0f2PqtZ"
      }
    },
    {
      "cell_type": "code",
      "source": [
        "# y = df['category']\n",
        "labels_map = {}\n",
        "for i, category in enumerate(df['category'].unique()):\n",
        "    labels_map[category] = i\n",
        "reverse_labels = {v:k for k, v in labels_map.items()}\n",
        "print(labels_map)\n",
        "print(reverse_labels)"
      ],
      "metadata": {
        "colab": {
          "base_uri": "https://localhost:8080/"
        },
        "id": "E9pDUPJHf92M",
        "outputId": "c7c7a310-80a5-4ca3-b9d4-176946ecbd3a"
      },
      "execution_count": 59,
      "outputs": [
        {
          "output_type": "stream",
          "name": "stdout",
          "text": [
            "{'tech': 0, 'business': 1, 'sport': 2, 'entertainment': 3, 'politics': 4}\n",
            "{0: 'tech', 1: 'business', 2: 'sport', 3: 'entertainment', 4: 'politics'}\n"
          ]
        }
      ]
    },
    {
      "cell_type": "code",
      "source": [
        "X = df['text']\n",
        "y = df['category'].map(labels_map)\n",
        "y = to_categorical(y)\n",
        "# binarizer = LabelBinarizer()\n",
        "# y = binarizer.fit_transform(df['category'])\n",
        "X_train, X_test, y_train, y_test = train_test_split(X, y, random_state=42, \n",
        "                                                    stratify=df.category)\n",
        "\n",
        "\n",
        "print(f'Shape of X_train is: { X_train.shape}')\n",
        "print(f'Shape of X_test is: { X_test.shape}')\n",
        "print(f'Shape of y_train is: { y_train.shape}')\n",
        "print(f'Shape of y_test is: { y_test.shape}')"
      ],
      "metadata": {
        "colab": {
          "base_uri": "https://localhost:8080/"
        },
        "id": "x76GfONXL-nD",
        "outputId": "a452c570-56dd-4146-cffa-19324c0d9da8"
      },
      "execution_count": 61,
      "outputs": [
        {
          "output_type": "stream",
          "name": "stdout",
          "text": [
            "Shape of X_train is: (1668,)\n",
            "Shape of X_test is: (557,)\n",
            "Shape of y_train is: (1668, 5)\n",
            "Shape of y_test is: (557, 5)\n"
          ]
        }
      ]
    },
    {
      "cell_type": "code",
      "source": [
        "MAX_LEN = 200\n",
        "\n",
        "tokenizer = Tokenizer(num_words=15000, lower=True, oov_token='<OOV>')\n",
        "# tokenizer fit on full corpus\n",
        "tokenizer.fit_on_texts(df['text'])\n",
        "vocab = tokenizer.word_index\n",
        "reversed_vocab = {v:k for k,v in vocab.items()}\n",
        "# creating sequences\n",
        "train_seq = tokenizer.texts_to_sequences(X_train)\n",
        "test_seq = tokenizer.texts_to_sequences(X_test)\n",
        "\n",
        "# padding sequences to keep the same length\n",
        "train_padded = pad_sequences(train_seq, maxlen=MAX_LEN)\n",
        "test_padded = pad_sequences(test_seq, maxlen=MAX_LEN)"
      ],
      "metadata": {
        "id": "sVht-ZUFP5sK"
      },
      "execution_count": 62,
      "outputs": []
    },
    {
      "cell_type": "markdown",
      "source": [
        "# Word2Vec"
      ],
      "metadata": {
        "id": "BVWHiPJfSuS3"
      }
    },
    {
      "cell_type": "code",
      "source": [
        "w2v = api.load('word2vec-google-news-300')"
      ],
      "metadata": {
        "colab": {
          "base_uri": "https://localhost:8080/"
        },
        "id": "hA0R2t4vSuDQ",
        "outputId": "fb783e23-6423-41d2-8024-77446efc9548"
      },
      "execution_count": 23,
      "outputs": [
        {
          "output_type": "stream",
          "name": "stdout",
          "text": [
            "[==================================================] 100.0% 1662.8/1662.8MB downloaded\n"
          ]
        }
      ]
    },
    {
      "cell_type": "code",
      "source": [
        "max_words =15000\n",
        "emb_matrix=np.zeros((max_words+1, 300))\n",
        "for i in range(max_words):\n",
        "    w = reversed_vocab[i+1]\n",
        "    if w in w2v:\n",
        "        emb_matrix[i+1,:] = w2v[w]\n",
        "emb_size = emb_matrix.shape[1]"
      ],
      "metadata": {
        "id": "t0VoigtKQRwf"
      },
      "execution_count": 63,
      "outputs": []
    },
    {
      "cell_type": "code",
      "source": [
        "emb_matrix.shape"
      ],
      "metadata": {
        "colab": {
          "base_uri": "https://localhost:8080/"
        },
        "id": "Zx_DUS-IRoFd",
        "outputId": "39491375-2d34-4517-cb0e-4edb71036921"
      },
      "execution_count": 64,
      "outputs": [
        {
          "output_type": "execute_result",
          "data": {
            "text/plain": [
              "(15001, 300)"
            ]
          },
          "metadata": {},
          "execution_count": 64
        }
      ]
    },
    {
      "cell_type": "code",
      "source": [
        "train_padded[0,:].shape"
      ],
      "metadata": {
        "colab": {
          "base_uri": "https://localhost:8080/"
        },
        "id": "kVeJRq5zWXdt",
        "outputId": "f1d1b0ab-c2a8-49e2-b02e-178f31052f53"
      },
      "execution_count": 65,
      "outputs": [
        {
          "output_type": "execute_result",
          "data": {
            "text/plain": [
              "(200,)"
            ]
          },
          "metadata": {},
          "execution_count": 65
        }
      ]
    },
    {
      "cell_type": "markdown",
      "source": [
        "## Building the model"
      ],
      "metadata": {
        "id": "ab2fq9oZXGQp"
      }
    },
    {
      "cell_type": "code",
      "source": [
        "input_ = Input(shape=train_padded[0,:].shape, name='input')\n",
        "# embeddings\n",
        "x = Embedding(input_dim=max_words+1,\n",
        "              output_dim=emb_size,\n",
        "              weights=[emb_matrix],\n",
        "              trainable=False,\n",
        "              name='embedding'\n",
        "              )(input_)\n",
        "\n",
        "x = Bidirectional(LSTM(15, dropout=0.2), name='bidirectional')(x)\n",
        "x = Dropout(0.2, name='dropout')(x)\n",
        "x = Dense(64, activation='relu', name='dense_hidden')(x)\n",
        "# output\n",
        "output = Dense(5, activation='softmax', name='output')(x)\n",
        "model = Model(input_, output)\n",
        "optimizer = tf.keras.optimizers.Adam(learning_rate=2e-3, beta_1=0.9)\n",
        "model.compile(optimizer=optimizer,\n",
        "              loss='categorical_crossentropy',\n",
        "              metrics=['accuracy'])\n",
        "\n",
        "model.summary()"
      ],
      "metadata": {
        "colab": {
          "base_uri": "https://localhost:8080/"
        },
        "id": "4TXrdAe2XFuJ",
        "outputId": "59d40958-4cad-4e6a-ccc7-9cfcdc767fc0"
      },
      "execution_count": 66,
      "outputs": [
        {
          "output_type": "stream",
          "name": "stdout",
          "text": [
            "Model: \"model_4\"\n",
            "_________________________________________________________________\n",
            " Layer (type)                Output Shape              Param #   \n",
            "=================================================================\n",
            " input (InputLayer)          [(None, 200)]             0         \n",
            "                                                                 \n",
            " embedding (Embedding)       (None, 200, 300)          4500300   \n",
            "                                                                 \n",
            " bidirectional (Bidirectiona  (None, 30)               37920     \n",
            " l)                                                              \n",
            "                                                                 \n",
            " dropout (Dropout)           (None, 30)                0         \n",
            "                                                                 \n",
            " dense_hidden (Dense)        (None, 64)                1984      \n",
            "                                                                 \n",
            " output (Dense)              (None, 5)                 325       \n",
            "                                                                 \n",
            "=================================================================\n",
            "Total params: 4,540,529\n",
            "Trainable params: 40,229\n",
            "Non-trainable params: 4,500,300\n",
            "_________________________________________________________________\n"
          ]
        }
      ]
    },
    {
      "cell_type": "code",
      "source": [
        "plot_model(model)"
      ],
      "metadata": {
        "colab": {
          "base_uri": "https://localhost:8080/",
          "height": 564
        },
        "id": "TE6IMk6yW_yM",
        "outputId": "f2f6e372-93ae-4fe7-d7f8-3ba07c48650d"
      },
      "execution_count": 67,
      "outputs": [
        {
          "output_type": "execute_result",
          "data": {
            "text/plain": [
              "<IPython.core.display.Image object>"
            ],
            "image/png": "[encoded data removed]"
          },
          "metadata": {},
          "execution_count": 67
        }
      ]
    },
    {
      "cell_type": "code",
      "source": [
        "history = model.fit(train_padded, y_train, batch_size=64,\n",
        "                    validation_data=(test_padded, y_test), epochs=10)"
      ],
      "metadata": {
        "colab": {
          "base_uri": "https://localhost:8080/"
        },
        "id": "0YUTBEFiYPmb",
        "outputId": "e8fe9599-461b-451e-9408-69beb5ac6bca"
      },
      "execution_count": 68,
      "outputs": [
        {
          "output_type": "stream",
          "name": "stdout",
          "text": [
            "Epoch 1/10\n",
            "27/27 [==============================] - 13s 285ms/step - loss: 1.4947 - accuracy: 0.3861 - val_loss: 1.2108 - val_accuracy: 0.4578\n",
            "Epoch 2/10\n",
            "27/27 [==============================] - 10s 387ms/step - loss: 1.0433 - accuracy: 0.5695 - val_loss: 0.8532 - val_accuracy: 0.6535\n",
            "Epoch 3/10\n",
            "27/27 [==============================] - 7s 249ms/step - loss: 0.7585 - accuracy: 0.7314 - val_loss: 0.6288 - val_accuracy: 0.7864\n",
            "Epoch 4/10\n",
            "27/27 [==============================] - 7s 250ms/step - loss: 0.4999 - accuracy: 0.8549 - val_loss: 0.4248 - val_accuracy: 0.8851\n",
            "Epoch 5/10\n",
            "27/27 [==============================] - 7s 253ms/step - loss: 0.5120 - accuracy: 0.8291 - val_loss: 0.6447 - val_accuracy: 0.8330\n",
            "Epoch 6/10\n",
            "27/27 [==============================] - 7s 251ms/step - loss: 0.6556 - accuracy: 0.7620 - val_loss: 0.6358 - val_accuracy: 0.7379\n",
            "Epoch 7/10\n",
            "27/27 [==============================] - 8s 290ms/step - loss: 0.5449 - accuracy: 0.8082 - val_loss: 0.4240 - val_accuracy: 0.8582\n",
            "Epoch 8/10\n",
            "27/27 [==============================] - 8s 285ms/step - loss: 0.4251 - accuracy: 0.8567 - val_loss: 0.3080 - val_accuracy: 0.8923\n",
            "Epoch 9/10\n",
            "27/27 [==============================] - 7s 250ms/step - loss: 0.3187 - accuracy: 0.8951 - val_loss: 0.4907 - val_accuracy: 0.8223\n",
            "Epoch 10/10\n",
            "27/27 [==============================] - 7s 252ms/step - loss: 0.3586 - accuracy: 0.8753 - val_loss: 0.3703 - val_accuracy: 0.8797\n"
          ]
        }
      ]
    },
    {
      "cell_type": "code",
      "source": [
        "test_preds = np.argmax(model.predict(test_padded), axis=1)"
      ],
      "metadata": {
        "id": "JsSQXgsfb1mP"
      },
      "execution_count": 69,
      "outputs": []
    },
    {
      "cell_type": "code",
      "source": [
        "y_true = np.argmax(y_test, axis=1)"
      ],
      "metadata": {
        "id": "ulZQNWGylvKz"
      },
      "execution_count": 73,
      "outputs": []
    },
    {
      "cell_type": "code",
      "source": [
        "accuracy_score(y_true, test_preds)"
      ],
      "metadata": {
        "colab": {
          "base_uri": "https://localhost:8080/"
        },
        "id": "SJRXWsTBlzLr",
        "outputId": "cab891d2-61d4-4ab5-a698-6a8c9190b2fe"
      },
      "execution_count": 74,
      "outputs": [
        {
          "output_type": "execute_result",
          "data": {
            "text/plain": [
              "0.8797127468581688"
            ]
          },
          "metadata": {},
          "execution_count": 74
        }
      ]
    },
    {
      "cell_type": "code",
      "source": [
        "print(classification_report(y_true, test_preds)) "
      ],
      "metadata": {
        "colab": {
          "base_uri": "https://localhost:8080/"
        },
        "id": "NEjMl5xmmA09",
        "outputId": "927e532e-3403-4fc7-b978-89aef7953358"
      },
      "execution_count": 83,
      "outputs": [
        {
          "output_type": "stream",
          "name": "stdout",
          "text": [
            "              precision    recall  f1-score   support\n",
            "\n",
            "           0       0.91      0.89      0.90       100\n",
            "           1       0.85      0.95      0.90       128\n",
            "           2       1.00      0.84      0.92       128\n",
            "           3       0.79      0.92      0.85        97\n",
            "           4       0.86      0.80      0.83       104\n",
            "\n",
            "    accuracy                           0.88       557\n",
            "   macro avg       0.88      0.88      0.88       557\n",
            "weighted avg       0.89      0.88      0.88       557\n",
            "\n"
          ]
        }
      ]
    },
    {
      "cell_type": "code",
      "source": [
        "def plot_cm_matrix(y_true, y_test):\n",
        "    cm = confusion_matrix(y_true, y_test, normalize='true')\n",
        "\n",
        "    plt.figure(figsize=(8,8))\n",
        "    disp = ConfusionMatrixDisplay(cm, display_labels=labels_map)\n",
        "    disp.plot(cmap='Blues', values_format='.2f', colorbar=False)\n",
        "    plt.xticks(rotation=45)\n",
        "    plt.title('Normalized Confusion Matrix')\n",
        "    plt.show()"
      ],
      "metadata": {
        "id": "6U7tucrSmKYr"
      },
      "execution_count": 96,
      "outputs": []
    },
    {
      "cell_type": "code",
      "source": [
        "plot_cm_matrix(y_true, test_preds)"
      ],
      "metadata": {
        "colab": {
          "base_uri": "https://localhost:8080/",
          "height": 360
        },
        "id": "7zBLEPkYmmuz",
        "outputId": "831ef1a3-5c0f-4b98-cf1e-d23821f53207"
      },
      "execution_count": 97,
      "outputs": [
        {
          "output_type": "display_data",
          "data": {
            "text/plain": [
              "<Figure size 576x576 with 0 Axes>"
            ]
          },
          "metadata": {}
        },
        {
          "output_type": "display_data",
          "data": {
            "text/plain": [
              "<Figure size 432x288 with 1 Axes>"
            ],
            "image/png": "[encoded data removed]"
          },
          "metadata": {
            "needs_background": "light"
          }
        }
      ]
    },
    {
      "cell_type": "code",
      "source": [
        ""
      ],
      "metadata": {
        "id": "oTVfV_lfnU5U"
      },
      "execution_count": null,
      "outputs": []
    }
  ]
}