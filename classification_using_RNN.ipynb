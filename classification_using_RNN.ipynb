{
  "nbformat": 4,
  "nbformat_minor": 0,
  "metadata": {
    "colab": {
      "name": "classification_using_RNN.ipynb",
      "provenance": [],
      "collapsed_sections": [],
      "mount_file_id": "1jnbvE6RnvD5LAmI8P1xn1lm2VfcMAzzc",
      "authorship_tag": "ABX9TyNk9/1H3U4sEBSYdKhZgLc7",
      "include_colab_link": true
    },
    "kernelspec": {
      "name": "python3",
      "display_name": "Python 3"
    },
    "language_info": {
      "name": "python"
    }
  },
  "cells": [
    {
      "cell_type": "markdown",
      "metadata": {
        "id": "view-in-github",
        "colab_type": "text"
      },
      "source": [
        "<a href=\"https://colab.research.google.com/github/fouad89/nlp-tutorial/blob/main/classification_using_RNN.ipynb\" target=\"_parent\"><img src=\"https://colab.research.google.com/assets/colab-badge.svg\" alt=\"Open In Colab\"/></a>"
      ]
    },
    {
      "cell_type": "code",
      "execution_count": 40,
      "metadata": {
        "id": "YQE-qrAb4VDY"
      },
      "outputs": [],
      "source": [
        "import numpy as np\n",
        "import pandas as pd\n",
        "import matplotlib.pyplot as plt\n",
        "\n",
        "import tensorflow as tf\n",
        "from sklearn.model_selection import train_test_split\n",
        "from sklearn.metrics import classification_report, ConfusionMatrixDisplay, confusion_matrix, accuracy_score\n",
        "from sklearn.preprocessing import LabelBinarizer\n",
        "from tensorflow.keras.utils import to_categorical\n",
        "from tensorflow.keras.preprocessing.text import Tokenizer\n",
        "from tensorflow.keras.preprocessing.sequence import pad_sequences\n",
        "from tensorflow.keras.layers import Input, Embedding, Bidirectional, LSTM, Dense, Dropout\n",
        "from tensorflow.keras.models import Model\n",
        "from tensorflow.keras.utils import plot_model\n",
        "import gensim.downloader as api\n",
        "import nltk\n"
      ]
    },
    {
      "cell_type": "code",
      "source": [
        "data_path = '/content/drive/MyDrive/Datasets/bbc-text.csv'\n",
        "def read_data(data_path):\n",
        "    return pd.read_csv(data_path)\n",
        "\n",
        "def get_data_info(df):\n",
        "    print(df.info())\n",
        "    print(f'Description: \\n{df.describe()}')\n",
        "    print()\n",
        "    print(f'Number of rows {df.shape[0]}, Number of Columns: {df.shape[1]}')\n",
        "    print()\n",
        "    print(f'Number of Null values {df.isnull().sum()}')\n",
        "    print()\n",
        "    print(f'Columns: {df.columns}')"
      ],
      "metadata": {
        "id": "5odUf26v_klZ"
      },
      "execution_count": 3,
      "outputs": []
    },
    {
      "cell_type": "code",
      "source": [
        "df = read_data(data_path)\n",
        "get_data_info(df)"
      ],
      "metadata": {
        "colab": {
          "base_uri": "https://localhost:8080/"
        },
        "id": "iIKfCXtuL7HA",
        "outputId": "45304a21-ed57-4c0d-cf11-81c3007bce70"
      },
      "execution_count": 4,
      "outputs": [
        {
          "output_type": "stream",
          "name": "stdout",
          "text": [
            "<class 'pandas.core.frame.DataFrame'>\n",
            "RangeIndex: 2225 entries, 0 to 2224\n",
            "Data columns (total 2 columns):\n",
            " #   Column    Non-Null Count  Dtype \n",
            "---  ------    --------------  ----- \n",
            " 0   category  2225 non-null   object\n",
            " 1   text      2225 non-null   object\n",
            "dtypes: object(2)\n",
            "memory usage: 34.9+ KB\n",
            "None\n",
            "Description: \n",
            "       category                                               text\n",
            "count      2225                                               2225\n",
            "unique        5                                               2126\n",
            "top       sport  kennedy questions trust of blair lib dem leade...\n",
            "freq        511                                                  2\n",
            "\n",
            "Number of rows 2225, Number of Columns: 2\n",
            "\n",
            "Number of Null values category    0\n",
            "text        0\n",
            "dtype: int64\n",
            "\n",
            "Columns: Index(['category', 'text'], dtype='object')\n"
          ]
        }
      ]
    },
    {
      "cell_type": "markdown",
      "source": [
        "# Preparing Input Data"
      ],
      "metadata": {
        "id": "z2R1p0f2PqtZ"
      }
    },
    {
      "cell_type": "code",
      "source": [
        "X = df['text']\n",
        "y = LabelBinarizer().fit_transform(df['category'])\n",
        "X_train, X_test, y_train, y_test = train_test_split(X, y, random_state=42, \n",
        "                                                    stratify=df.category)\n",
        "\n",
        "\n",
        "print(f'Shape of X_train is: { X_train.shape}')\n",
        "print(f'Shape of X_test is: { X_test.shape}')\n",
        "print(f'Shape of y_train is: { y_train.shape}')\n",
        "print(f'Shape of y_test is: { y_test.shape}')"
      ],
      "metadata": {
        "colab": {
          "base_uri": "https://localhost:8080/"
        },
        "id": "x76GfONXL-nD",
        "outputId": "65367408-748f-4929-dd96-3ec8a8bb4a16"
      },
      "execution_count": 15,
      "outputs": [
        {
          "output_type": "stream",
          "name": "stdout",
          "text": [
            "Shape of X_train is: (1668,)\n",
            "Shape of X_test is: (557,)\n",
            "Shape of y_train is: (1668, 5)\n",
            "Shape of y_test is: (557, 5)\n"
          ]
        }
      ]
    },
    {
      "cell_type": "code",
      "source": [
        "MAX_LEN = 200\n",
        "\n",
        "tokenizer = Tokenizer(num_words=15000, lower=True, oov_token='<OOV>')\n",
        "# tokenizer fit on full corpus\n",
        "tokenizer.fit_on_texts(df['text'])\n",
        "vocab = tokenizer.word_index\n",
        "reversed_vocab = {v:k for k,v in vocab.items()}\n",
        "# creating sequences\n",
        "train_seq = tokenizer.texts_to_sequences(X_train)\n",
        "test_seq = tokenizer.texts_to_sequences(X_test)\n",
        "\n",
        "# padding sequences to keep the same length\n",
        "train_padded = pad_sequences(train_seq, maxlen=MAX_LEN)\n",
        "test_padded = pad_sequences(test_seq, maxlen=MAX_LEN)"
      ],
      "metadata": {
        "id": "sVht-ZUFP5sK"
      },
      "execution_count": 20,
      "outputs": []
    },
    {
      "cell_type": "markdown",
      "source": [
        "# Word2Vec"
      ],
      "metadata": {
        "id": "BVWHiPJfSuS3"
      }
    },
    {
      "cell_type": "code",
      "source": [
        "w2v = api.load('word2vec-google-news-300')"
      ],
      "metadata": {
        "colab": {
          "base_uri": "https://localhost:8080/"
        },
        "id": "hA0R2t4vSuDQ",
        "outputId": "fb783e23-6423-41d2-8024-77446efc9548"
      },
      "execution_count": 23,
      "outputs": [
        {
          "output_type": "stream",
          "name": "stdout",
          "text": [
            "[==================================================] 100.0% 1662.8/1662.8MB downloaded\n"
          ]
        }
      ]
    },
    {
      "cell_type": "code",
      "source": [
        "max_words =15000\n",
        "emb_matrix=np.zeros((max_words+1, 300))\n",
        "for i in range(max_words):\n",
        "    w = reversed_vocab[i+1]\n",
        "    if w in w2v:\n",
        "        emb_matrix[i+1,:] = w2v[w]\n",
        "emb_size = emb_matrix.shape[1]"
      ],
      "metadata": {
        "id": "t0VoigtKQRwf"
      },
      "execution_count": 28,
      "outputs": []
    },
    {
      "cell_type": "code",
      "source": [
        "emb_matrix.shape"
      ],
      "metadata": {
        "colab": {
          "base_uri": "https://localhost:8080/"
        },
        "id": "Zx_DUS-IRoFd",
        "outputId": "8f6790dc-d0dc-46ad-b64a-180af9c2ab57"
      },
      "execution_count": 30,
      "outputs": [
        {
          "output_type": "execute_result",
          "data": {
            "text/plain": [
              "(15001, 300)"
            ]
          },
          "metadata": {},
          "execution_count": 30
        }
      ]
    },
    {
      "cell_type": "code",
      "source": [
        "train_padded[0,:].shape"
      ],
      "metadata": {
        "colab": {
          "base_uri": "https://localhost:8080/"
        },
        "id": "kVeJRq5zWXdt",
        "outputId": "6b5c293e-5db0-431b-acb0-50596f0c4968"
      },
      "execution_count": 32,
      "outputs": [
        {
          "output_type": "execute_result",
          "data": {
            "text/plain": [
              "(200,)"
            ]
          },
          "metadata": {},
          "execution_count": 32
        }
      ]
    },
    {
      "cell_type": "markdown",
      "source": [
        "## Building the model"
      ],
      "metadata": {
        "id": "ab2fq9oZXGQp"
      }
    },
    {
      "cell_type": "code",
      "source": [
        "input_ = Input(shape=train_padded[0,:].shape, name='input')\n",
        "# embeddings\n",
        "x = Embedding(input_dim=max_words+1,\n",
        "              output_dim=emb_size,\n",
        "              weights=[emb_matrix],\n",
        "              trainable=False,\n",
        "              name='embedding'\n",
        "              )(input_)\n",
        "\n",
        "x = Bidirectional(LSTM(15, dropout=0.2), name='bidirectional')(x)\n",
        "x = Dropout(0.2, name='dropout')(x)\n",
        "x = Dense(64, activation='relu', name='dense_hidden')(x)\n",
        "# output\n",
        "output = Dense(5, activation='softmax', name='output')(x)\n",
        "model = Model(input_, output)\n",
        "optimizer = tf.keras.optimizers.Adam(learning_rate=2e-3, beta_1=0.9)\n",
        "model.compile(optimizer=optimizer,\n",
        "              loss='categorical_crossentropy',\n",
        "              metrics=['accuracy'])\n",
        "\n",
        "model.summary()"
      ],
      "metadata": {
        "colab": {
          "base_uri": "https://localhost:8080/"
        },
        "id": "4TXrdAe2XFuJ",
        "outputId": "c6c8ff28-df68-4e7c-d24a-176b08b695b4"
      },
      "execution_count": 45,
      "outputs": [
        {
          "output_type": "stream",
          "name": "stdout",
          "text": [
            "Model: \"model_3\"\n",
            "_________________________________________________________________\n",
            " Layer (type)                Output Shape              Param #   \n",
            "=================================================================\n",
            " input (InputLayer)          [(None, 200)]             0         \n",
            "                                                                 \n",
            " embedding (Embedding)       (None, 200, 300)          4500300   \n",
            "                                                                 \n",
            " bidirectional (Bidirectiona  (None, 30)               37920     \n",
            " l)                                                              \n",
            "                                                                 \n",
            " dropout (Dropout)           (None, 30)                0         \n",
            "                                                                 \n",
            " dense_hidden (Dense)        (None, 64)                1984      \n",
            "                                                                 \n",
            " output (Dense)              (None, 5)                 325       \n",
            "                                                                 \n",
            "=================================================================\n",
            "Total params: 4,540,529\n",
            "Trainable params: 40,229\n",
            "Non-trainable params: 4,500,300\n",
            "_________________________________________________________________\n"
          ]
        }
      ]
    },
    {
      "cell_type": "code",
      "source": [
        "plot_model(model)"
      ],
      "metadata": {
        "colab": {
          "base_uri": "https://localhost:8080/",
          "height": 564
        },
        "id": "TE6IMk6yW_yM",
        "outputId": "a885e499-efa9-4b37-a830-0a6098814b76"
      },
      "execution_count": 41,
      "outputs": [
        {
          "output_type": "execute_result",
          "data": {
            "text/plain": [
              "<IPython.core.display.Image object>"
            ],
            "image/png": "[encoded data removed]"
          },
          "metadata": {},
          "execution_count": 41
        }
      ]
    },
    {
      "cell_type": "code",
      "source": [
        "history = model.fit(train_padded, y_train, batch_size=64,\n",
        "                    validation_data=(test_padded, y_test), epochs=10)"
      ],
      "metadata": {
        "colab": {
          "base_uri": "https://localhost:8080/"
        },
        "id": "0YUTBEFiYPmb",
        "outputId": "1dc80749-8960-499d-d118-bd597bea94d9"
      },
      "execution_count": 46,
      "outputs": [
        {
          "output_type": "stream",
          "name": "stdout",
          "text": [
            "Epoch 1/10\n",
            "27/27 [==============================] - 20s 460ms/step - loss: 1.5401 - accuracy: 0.3447 - val_loss: 1.2794 - val_accuracy: 0.4991\n",
            "Epoch 2/10\n",
            "27/27 [==============================] - 11s 396ms/step - loss: 0.9611 - accuracy: 0.6355 - val_loss: 0.8148 - val_accuracy: 0.7056\n",
            "Epoch 3/10\n",
            "27/27 [==============================] - 11s 400ms/step - loss: 0.7976 - accuracy: 0.7350 - val_loss: 0.6234 - val_accuracy: 0.8025\n",
            "Epoch 4/10\n",
            "27/27 [==============================] - 11s 393ms/step - loss: 0.5024 - accuracy: 0.8447 - val_loss: 0.3773 - val_accuracy: 0.8815\n",
            "Epoch 5/10\n",
            "27/27 [==============================] - 11s 394ms/step - loss: 0.4171 - accuracy: 0.8681 - val_loss: 0.4012 - val_accuracy: 0.8689\n",
            "Epoch 6/10\n",
            "27/27 [==============================] - 10s 383ms/step - loss: 0.4205 - accuracy: 0.8675 - val_loss: 0.3945 - val_accuracy: 0.8941\n",
            "Epoch 7/10\n",
            "27/27 [==============================] - 12s 452ms/step - loss: 0.3061 - accuracy: 0.9071 - val_loss: 0.3794 - val_accuracy: 0.8887\n",
            "Epoch 8/10\n",
            "27/27 [==============================] - 7s 251ms/step - loss: 0.2865 - accuracy: 0.9131 - val_loss: 0.3024 - val_accuracy: 0.9031\n",
            "Epoch 9/10\n",
            "27/27 [==============================] - 7s 250ms/step - loss: 0.2582 - accuracy: 0.9191 - val_loss: 0.3058 - val_accuracy: 0.8995\n",
            "Epoch 10/10\n",
            "27/27 [==============================] - 7s 251ms/step - loss: 0.2341 - accuracy: 0.9317 - val_loss: 0.2483 - val_accuracy: 0.9156\n"
          ]
        }
      ]
    },
    {
      "cell_type": "code",
      "source": [
        ""
      ],
      "metadata": {
        "id": "JsSQXgsfb1mP"
      },
      "execution_count": null,
      "outputs": []
    }
  ]
}