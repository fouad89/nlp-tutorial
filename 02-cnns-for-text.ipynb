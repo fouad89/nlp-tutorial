{
 "cells": [
  {
   "cell_type": "markdown",
   "source": [
    "# 1-D Convlution with Features\n",
    "<li>Input is T x D (T = # of time steps, D = # of input features)</li>\n",
    "<li>Output is T x M (M= # of output features)</li>\n",
    "<li>then W (the filter) has a shape of T' x D x M (Where T' << T)</li>\n",
    "<li>for images: 2 spatial dimensions + 1 input feautre dimension + 1 output feature dimensions =4</li>\n",
    "<li>for sequences: 1 time dimension +1 input feature dimension + 1 output feature dimension = 3</li>\n",
    "\n",
    "$$y(t,m) = \\sum_{\\tau} \\sum_{d=1}^{D} x(t+ \\tau ,d)w(\\tau , d, m)$$"
   ],
   "metadata": {}
  },
  {
   "cell_type": "markdown",
   "source": [],
   "metadata": {}
  }
 ],
 "metadata": {
  "orig_nbformat": 4,
  "language_info": {
   "name": "python"
  }
 },
 "nbformat": 4,
 "nbformat_minor": 2
}